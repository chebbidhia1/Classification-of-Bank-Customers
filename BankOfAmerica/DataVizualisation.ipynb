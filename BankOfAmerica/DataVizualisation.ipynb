{
 "cells": [
  {
   "cell_type": "code",
   "execution_count": 2,
   "metadata": {},
   "outputs": [],
   "source": [
    "import pandas as pd"
   ]
  },
  {
   "cell_type": "code",
   "execution_count": 3,
   "metadata": {},
   "outputs": [],
   "source": [
    "import numpy as np"
   ]
  },
  {
   "cell_type": "code",
   "execution_count": 4,
   "metadata": {},
   "outputs": [],
   "source": [
    "import matplotlib.pyplot as plt \n",
    "%matplotlib inline"
   ]
  },
  {
   "cell_type": "code",
   "execution_count": 5,
   "metadata": {},
   "outputs": [
    {
     "data": {
      "text/html": [
       "<div>\n",
       "<style scoped>\n",
       "    .dataframe tbody tr th:only-of-type {\n",
       "        vertical-align: middle;\n",
       "    }\n",
       "\n",
       "    .dataframe tbody tr th {\n",
       "        vertical-align: top;\n",
       "    }\n",
       "\n",
       "    .dataframe thead th {\n",
       "        text-align: right;\n",
       "    }\n",
       "</style>\n",
       "<table border=\"1\" class=\"dataframe\">\n",
       "  <thead>\n",
       "    <tr style=\"text-align: right;\">\n",
       "      <th></th>\n",
       "      <th>BAD</th>\n",
       "      <th>LOAN</th>\n",
       "      <th>MORTDUE</th>\n",
       "      <th>VALUE</th>\n",
       "      <th>REASON</th>\n",
       "      <th>JOB</th>\n",
       "      <th>YOJ</th>\n",
       "      <th>DEROG</th>\n",
       "      <th>DELINQ</th>\n",
       "      <th>CLAGE</th>\n",
       "      <th>NINQ</th>\n",
       "      <th>CLNO</th>\n",
       "      <th>DEBTINC</th>\n",
       "    </tr>\n",
       "  </thead>\n",
       "  <tbody>\n",
       "    <tr>\n",
       "      <th>0</th>\n",
       "      <td>1</td>\n",
       "      <td>1100</td>\n",
       "      <td>25860.0</td>\n",
       "      <td>39025.0</td>\n",
       "      <td>HomeImp</td>\n",
       "      <td>Other</td>\n",
       "      <td>10.5</td>\n",
       "      <td>0.0</td>\n",
       "      <td>0.0</td>\n",
       "      <td>94.366667</td>\n",
       "      <td>1.0</td>\n",
       "      <td>9.0</td>\n",
       "      <td>NaN</td>\n",
       "    </tr>\n",
       "    <tr>\n",
       "      <th>1</th>\n",
       "      <td>1</td>\n",
       "      <td>1300</td>\n",
       "      <td>70053.0</td>\n",
       "      <td>68400.0</td>\n",
       "      <td>HomeImp</td>\n",
       "      <td>Other</td>\n",
       "      <td>7.0</td>\n",
       "      <td>0.0</td>\n",
       "      <td>2.0</td>\n",
       "      <td>121.833333</td>\n",
       "      <td>0.0</td>\n",
       "      <td>14.0</td>\n",
       "      <td>NaN</td>\n",
       "    </tr>\n",
       "    <tr>\n",
       "      <th>2</th>\n",
       "      <td>1</td>\n",
       "      <td>1500</td>\n",
       "      <td>13500.0</td>\n",
       "      <td>16700.0</td>\n",
       "      <td>HomeImp</td>\n",
       "      <td>Other</td>\n",
       "      <td>4.0</td>\n",
       "      <td>0.0</td>\n",
       "      <td>0.0</td>\n",
       "      <td>149.466667</td>\n",
       "      <td>1.0</td>\n",
       "      <td>10.0</td>\n",
       "      <td>NaN</td>\n",
       "    </tr>\n",
       "    <tr>\n",
       "      <th>3</th>\n",
       "      <td>1</td>\n",
       "      <td>1500</td>\n",
       "      <td>NaN</td>\n",
       "      <td>NaN</td>\n",
       "      <td>NaN</td>\n",
       "      <td>NaN</td>\n",
       "      <td>NaN</td>\n",
       "      <td>NaN</td>\n",
       "      <td>NaN</td>\n",
       "      <td>NaN</td>\n",
       "      <td>NaN</td>\n",
       "      <td>NaN</td>\n",
       "      <td>NaN</td>\n",
       "    </tr>\n",
       "    <tr>\n",
       "      <th>4</th>\n",
       "      <td>0</td>\n",
       "      <td>1700</td>\n",
       "      <td>97800.0</td>\n",
       "      <td>112000.0</td>\n",
       "      <td>HomeImp</td>\n",
       "      <td>Office</td>\n",
       "      <td>3.0</td>\n",
       "      <td>0.0</td>\n",
       "      <td>0.0</td>\n",
       "      <td>93.333333</td>\n",
       "      <td>0.0</td>\n",
       "      <td>14.0</td>\n",
       "      <td>NaN</td>\n",
       "    </tr>\n",
       "  </tbody>\n",
       "</table>\n",
       "</div>"
      ],
      "text/plain": [
       "   BAD  LOAN  MORTDUE     VALUE   REASON     JOB   YOJ  DEROG  DELINQ  \\\n",
       "0    1  1100  25860.0   39025.0  HomeImp   Other  10.5    0.0     0.0   \n",
       "1    1  1300  70053.0   68400.0  HomeImp   Other   7.0    0.0     2.0   \n",
       "2    1  1500  13500.0   16700.0  HomeImp   Other   4.0    0.0     0.0   \n",
       "3    1  1500      NaN       NaN      NaN     NaN   NaN    NaN     NaN   \n",
       "4    0  1700  97800.0  112000.0  HomeImp  Office   3.0    0.0     0.0   \n",
       "\n",
       "        CLAGE  NINQ  CLNO  DEBTINC  \n",
       "0   94.366667   1.0   9.0      NaN  \n",
       "1  121.833333   0.0  14.0      NaN  \n",
       "2  149.466667   1.0  10.0      NaN  \n",
       "3         NaN   NaN   NaN      NaN  \n",
       "4   93.333333   0.0  14.0      NaN  "
      ]
     },
     "execution_count": 5,
     "metadata": {},
     "output_type": "execute_result"
    }
   ],
   "source": [
    "data = pd.read_csv('Bank_of_America_data.csv', sep=',')\n",
    "data.head()"
   ]
  },
  {
   "cell_type": "code",
   "execution_count": 6,
   "metadata": {},
   "outputs": [
    {
     "data": {
      "text/html": [
       "<div>\n",
       "<style scoped>\n",
       "    .dataframe tbody tr th:only-of-type {\n",
       "        vertical-align: middle;\n",
       "    }\n",
       "\n",
       "    .dataframe tbody tr th {\n",
       "        vertical-align: top;\n",
       "    }\n",
       "\n",
       "    .dataframe thead th {\n",
       "        text-align: right;\n",
       "    }\n",
       "</style>\n",
       "<table border=\"1\" class=\"dataframe\">\n",
       "  <thead>\n",
       "    <tr style=\"text-align: right;\">\n",
       "      <th></th>\n",
       "      <th>BAD</th>\n",
       "      <th>LOAN</th>\n",
       "      <th>MORTDUE</th>\n",
       "      <th>VALUE</th>\n",
       "      <th>YOJ</th>\n",
       "      <th>DEROG</th>\n",
       "      <th>DELINQ</th>\n",
       "      <th>CLAGE</th>\n",
       "      <th>NINQ</th>\n",
       "      <th>CLNO</th>\n",
       "      <th>DEBTINC</th>\n",
       "    </tr>\n",
       "  </thead>\n",
       "  <tbody>\n",
       "    <tr>\n",
       "      <th>0</th>\n",
       "      <td>1</td>\n",
       "      <td>1100</td>\n",
       "      <td>25860.0</td>\n",
       "      <td>39025.0</td>\n",
       "      <td>10.5</td>\n",
       "      <td>0.0</td>\n",
       "      <td>0.0</td>\n",
       "      <td>94.366667</td>\n",
       "      <td>1.0</td>\n",
       "      <td>9.0</td>\n",
       "      <td>NaN</td>\n",
       "    </tr>\n",
       "    <tr>\n",
       "      <th>1</th>\n",
       "      <td>1</td>\n",
       "      <td>1300</td>\n",
       "      <td>70053.0</td>\n",
       "      <td>68400.0</td>\n",
       "      <td>7.0</td>\n",
       "      <td>0.0</td>\n",
       "      <td>2.0</td>\n",
       "      <td>121.833333</td>\n",
       "      <td>0.0</td>\n",
       "      <td>14.0</td>\n",
       "      <td>NaN</td>\n",
       "    </tr>\n",
       "    <tr>\n",
       "      <th>2</th>\n",
       "      <td>1</td>\n",
       "      <td>1500</td>\n",
       "      <td>13500.0</td>\n",
       "      <td>16700.0</td>\n",
       "      <td>4.0</td>\n",
       "      <td>0.0</td>\n",
       "      <td>0.0</td>\n",
       "      <td>149.466667</td>\n",
       "      <td>1.0</td>\n",
       "      <td>10.0</td>\n",
       "      <td>NaN</td>\n",
       "    </tr>\n",
       "    <tr>\n",
       "      <th>3</th>\n",
       "      <td>1</td>\n",
       "      <td>1500</td>\n",
       "      <td>NaN</td>\n",
       "      <td>NaN</td>\n",
       "      <td>NaN</td>\n",
       "      <td>NaN</td>\n",
       "      <td>NaN</td>\n",
       "      <td>NaN</td>\n",
       "      <td>NaN</td>\n",
       "      <td>NaN</td>\n",
       "      <td>NaN</td>\n",
       "    </tr>\n",
       "    <tr>\n",
       "      <th>4</th>\n",
       "      <td>0</td>\n",
       "      <td>1700</td>\n",
       "      <td>97800.0</td>\n",
       "      <td>112000.0</td>\n",
       "      <td>3.0</td>\n",
       "      <td>0.0</td>\n",
       "      <td>0.0</td>\n",
       "      <td>93.333333</td>\n",
       "      <td>0.0</td>\n",
       "      <td>14.0</td>\n",
       "      <td>NaN</td>\n",
       "    </tr>\n",
       "  </tbody>\n",
       "</table>\n",
       "</div>"
      ],
      "text/plain": [
       "   BAD  LOAN  MORTDUE     VALUE   YOJ  DEROG  DELINQ       CLAGE  NINQ  CLNO  \\\n",
       "0    1  1100  25860.0   39025.0  10.5    0.0     0.0   94.366667   1.0   9.0   \n",
       "1    1  1300  70053.0   68400.0   7.0    0.0     2.0  121.833333   0.0  14.0   \n",
       "2    1  1500  13500.0   16700.0   4.0    0.0     0.0  149.466667   1.0  10.0   \n",
       "3    1  1500      NaN       NaN   NaN    NaN     NaN         NaN   NaN   NaN   \n",
       "4    0  1700  97800.0  112000.0   3.0    0.0     0.0   93.333333   0.0  14.0   \n",
       "\n",
       "   DEBTINC  \n",
       "0      NaN  \n",
       "1      NaN  \n",
       "2      NaN  \n",
       "3      NaN  \n",
       "4      NaN  "
      ]
     },
     "execution_count": 6,
     "metadata": {},
     "output_type": "execute_result"
    }
   ],
   "source": [
    "data=data._get_numeric_data()\n",
    "data.head()"
   ]
  },
  {
   "cell_type": "code",
   "execution_count": 7,
   "metadata": {},
   "outputs": [
    {
     "data": {
      "text/plain": [
       "(5960, 11)"
      ]
     },
     "execution_count": 7,
     "metadata": {},
     "output_type": "execute_result"
    }
   ],
   "source": [
    "data.shape"
   ]
  },
  {
   "cell_type": "code",
   "execution_count": 8,
   "metadata": {},
   "outputs": [],
   "source": [
    "data.dropna(inplace=True)"
   ]
  },
  {
   "cell_type": "code",
   "execution_count": 9,
   "metadata": {},
   "outputs": [
    {
     "data": {
      "text/plain": [
       "(3515, 11)"
      ]
     },
     "execution_count": 9,
     "metadata": {},
     "output_type": "execute_result"
    }
   ],
   "source": [
    "data.shape"
   ]
  },
  {
   "cell_type": "markdown",
   "metadata": {},
   "source": [
    "- Objectif métier : Prédire le profit d'une entreprise à partir de sa position géographique et de quelques informations utiles"
   ]
  },
  {
   "cell_type": "code",
   "execution_count": 10,
   "metadata": {},
   "outputs": [
    {
     "data": {
      "text/html": [
       "<div>\n",
       "<style scoped>\n",
       "    .dataframe tbody tr th:only-of-type {\n",
       "        vertical-align: middle;\n",
       "    }\n",
       "\n",
       "    .dataframe tbody tr th {\n",
       "        vertical-align: top;\n",
       "    }\n",
       "\n",
       "    .dataframe thead th {\n",
       "        text-align: right;\n",
       "    }\n",
       "</style>\n",
       "<table border=\"1\" class=\"dataframe\">\n",
       "  <thead>\n",
       "    <tr style=\"text-align: right;\">\n",
       "      <th></th>\n",
       "      <th>BAD</th>\n",
       "      <th>LOAN</th>\n",
       "      <th>MORTDUE</th>\n",
       "      <th>VALUE</th>\n",
       "      <th>YOJ</th>\n",
       "      <th>DEROG</th>\n",
       "      <th>DELINQ</th>\n",
       "      <th>CLAGE</th>\n",
       "      <th>NINQ</th>\n",
       "      <th>CLNO</th>\n",
       "      <th>DEBTINC</th>\n",
       "    </tr>\n",
       "  </thead>\n",
       "  <tbody>\n",
       "    <tr>\n",
       "      <th>count</th>\n",
       "      <td>3515.000000</td>\n",
       "      <td>3515.000000</td>\n",
       "      <td>3515.000000</td>\n",
       "      <td>3515.000000</td>\n",
       "      <td>3515.000000</td>\n",
       "      <td>3515.000000</td>\n",
       "      <td>3515.000000</td>\n",
       "      <td>3515.000000</td>\n",
       "      <td>3515.000000</td>\n",
       "      <td>3515.000000</td>\n",
       "      <td>3515.000000</td>\n",
       "    </tr>\n",
       "    <tr>\n",
       "      <th>mean</th>\n",
       "      <td>0.087909</td>\n",
       "      <td>19187.880512</td>\n",
       "      <td>75623.036415</td>\n",
       "      <td>106875.773257</td>\n",
       "      <td>9.165292</td>\n",
       "      <td>0.146515</td>\n",
       "      <td>0.270555</td>\n",
       "      <td>181.082668</td>\n",
       "      <td>1.023044</td>\n",
       "      <td>21.954481</td>\n",
       "      <td>34.120568</td>\n",
       "    </tr>\n",
       "    <tr>\n",
       "      <th>std</th>\n",
       "      <td>0.283203</td>\n",
       "      <td>11315.617764</td>\n",
       "      <td>44761.833125</td>\n",
       "      <td>54200.456754</td>\n",
       "      <td>7.667258</td>\n",
       "      <td>0.576416</td>\n",
       "      <td>0.795853</td>\n",
       "      <td>82.396940</td>\n",
       "      <td>1.533828</td>\n",
       "      <td>9.360130</td>\n",
       "      <td>8.093908</td>\n",
       "    </tr>\n",
       "    <tr>\n",
       "      <th>min</th>\n",
       "      <td>0.000000</td>\n",
       "      <td>1700.000000</td>\n",
       "      <td>5076.000000</td>\n",
       "      <td>21144.000000</td>\n",
       "      <td>0.000000</td>\n",
       "      <td>0.000000</td>\n",
       "      <td>0.000000</td>\n",
       "      <td>0.486711</td>\n",
       "      <td>0.000000</td>\n",
       "      <td>0.000000</td>\n",
       "      <td>0.838118</td>\n",
       "    </tr>\n",
       "    <tr>\n",
       "      <th>25%</th>\n",
       "      <td>0.000000</td>\n",
       "      <td>11900.000000</td>\n",
       "      <td>48850.500000</td>\n",
       "      <td>70989.000000</td>\n",
       "      <td>3.000000</td>\n",
       "      <td>0.000000</td>\n",
       "      <td>0.000000</td>\n",
       "      <td>118.676290</td>\n",
       "      <td>0.000000</td>\n",
       "      <td>16.000000</td>\n",
       "      <td>29.382991</td>\n",
       "    </tr>\n",
       "    <tr>\n",
       "      <th>50%</th>\n",
       "      <td>0.000000</td>\n",
       "      <td>16900.000000</td>\n",
       "      <td>66590.000000</td>\n",
       "      <td>94071.000000</td>\n",
       "      <td>7.000000</td>\n",
       "      <td>0.000000</td>\n",
       "      <td>0.000000</td>\n",
       "      <td>176.530327</td>\n",
       "      <td>0.000000</td>\n",
       "      <td>21.000000</td>\n",
       "      <td>34.980525</td>\n",
       "    </tr>\n",
       "    <tr>\n",
       "      <th>75%</th>\n",
       "      <td>0.000000</td>\n",
       "      <td>23600.000000</td>\n",
       "      <td>92598.000000</td>\n",
       "      <td>122175.000000</td>\n",
       "      <td>14.000000</td>\n",
       "      <td>0.000000</td>\n",
       "      <td>0.000000</td>\n",
       "      <td>230.272746</td>\n",
       "      <td>2.000000</td>\n",
       "      <td>27.000000</td>\n",
       "      <td>39.005824</td>\n",
       "    </tr>\n",
       "    <tr>\n",
       "      <th>max</th>\n",
       "      <td>1.000000</td>\n",
       "      <td>89900.000000</td>\n",
       "      <td>399412.000000</td>\n",
       "      <td>512650.000000</td>\n",
       "      <td>41.000000</td>\n",
       "      <td>10.000000</td>\n",
       "      <td>10.000000</td>\n",
       "      <td>1168.233561</td>\n",
       "      <td>13.000000</td>\n",
       "      <td>65.000000</td>\n",
       "      <td>144.189001</td>\n",
       "    </tr>\n",
       "  </tbody>\n",
       "</table>\n",
       "</div>"
      ],
      "text/plain": [
       "               BAD          LOAN        MORTDUE          VALUE          YOJ  \\\n",
       "count  3515.000000   3515.000000    3515.000000    3515.000000  3515.000000   \n",
       "mean      0.087909  19187.880512   75623.036415  106875.773257     9.165292   \n",
       "std       0.283203  11315.617764   44761.833125   54200.456754     7.667258   \n",
       "min       0.000000   1700.000000    5076.000000   21144.000000     0.000000   \n",
       "25%       0.000000  11900.000000   48850.500000   70989.000000     3.000000   \n",
       "50%       0.000000  16900.000000   66590.000000   94071.000000     7.000000   \n",
       "75%       0.000000  23600.000000   92598.000000  122175.000000    14.000000   \n",
       "max       1.000000  89900.000000  399412.000000  512650.000000    41.000000   \n",
       "\n",
       "             DEROG       DELINQ        CLAGE         NINQ         CLNO  \\\n",
       "count  3515.000000  3515.000000  3515.000000  3515.000000  3515.000000   \n",
       "mean      0.146515     0.270555   181.082668     1.023044    21.954481   \n",
       "std       0.576416     0.795853    82.396940     1.533828     9.360130   \n",
       "min       0.000000     0.000000     0.486711     0.000000     0.000000   \n",
       "25%       0.000000     0.000000   118.676290     0.000000    16.000000   \n",
       "50%       0.000000     0.000000   176.530327     0.000000    21.000000   \n",
       "75%       0.000000     0.000000   230.272746     2.000000    27.000000   \n",
       "max      10.000000    10.000000  1168.233561    13.000000    65.000000   \n",
       "\n",
       "           DEBTINC  \n",
       "count  3515.000000  \n",
       "mean     34.120568  \n",
       "std       8.093908  \n",
       "min       0.838118  \n",
       "25%      29.382991  \n",
       "50%      34.980525  \n",
       "75%      39.005824  \n",
       "max     144.189001  "
      ]
     },
     "execution_count": 10,
     "metadata": {},
     "output_type": "execute_result"
    }
   ],
   "source": [
    "data.describe()"
   ]
  },
  {
   "cell_type": "code",
   "execution_count": 11,
   "metadata": {},
   "outputs": [
    {
     "data": {
      "text/plain": [
       "BAD              inf\n",
       "LOAN       13.537755\n",
       "MORTDUE    13.565155\n",
       "VALUE      13.611818\n",
       "YOJ        30.932737\n",
       "DEROG            inf\n",
       "DELINQ           inf\n",
       "CLAGE       2.578787\n",
       "NINQ             inf\n",
       "CLNO        4.545147\n",
       "DEBTINC     2.458390\n",
       "dtype: float64"
      ]
     },
     "execution_count": 11,
     "metadata": {},
     "output_type": "execute_result"
    }
   ],
   "source": [
    "abs(( data.mean() - data.median() ) / ( data.median() )) * 100"
   ]
  },
  {
   "cell_type": "code",
   "execution_count": 12,
   "metadata": {},
   "outputs": [
    {
     "data": {
      "image/png": "[encoded data removed]",
      "text/plain": [
       "<Figure size 720x720 with 1 Axes>"
      ]
     },
     "metadata": {
      "needs_background": "light"
     },
     "output_type": "display_data"
    }
   ],
   "source": [
    "data.boxplot(figsize=(10,10));"
   ]
  },
  {
   "cell_type": "code",
   "execution_count": 13,
   "metadata": {},
   "outputs": [],
   "source": [
    "data =data[(data[\"MORTDUE\"]< 160000) & (data[\"VALUE\"]< 200000)] #MASKING"
   ]
  },
  {
   "cell_type": "markdown",
   "metadata": {},
   "source": [
    "- Tuckey's method (extreme theory)\n",
    "$$    ( Q3 - Q1 ) * 1.5    $$"
   ]
  },
  {
   "cell_type": "code",
   "execution_count": 14,
   "metadata": {},
   "outputs": [
    {
     "data": {
      "image/png": "[encoded data removed]",
      "text/plain": [
       "<Figure size 432x288 with 121 Axes>"
      ]
     },
     "metadata": {
      "needs_background": "light"
     },
     "output_type": "display_data"
    }
   ],
   "source": [
    "pd.plotting.scatter_matrix(data);"
   ]
  },
  {
   "cell_type": "code",
   "execution_count": 15,
   "metadata": {},
   "outputs": [
    {
     "data": {
      "text/html": [
       "<div>\n",
       "<style scoped>\n",
       "    .dataframe tbody tr th:only-of-type {\n",
       "        vertical-align: middle;\n",
       "    }\n",
       "\n",
       "    .dataframe tbody tr th {\n",
       "        vertical-align: top;\n",
       "    }\n",
       "\n",
       "    .dataframe thead th {\n",
       "        text-align: right;\n",
       "    }\n",
       "</style>\n",
       "<table border=\"1\" class=\"dataframe\">\n",
       "  <thead>\n",
       "    <tr style=\"text-align: right;\">\n",
       "      <th></th>\n",
       "      <th>BAD</th>\n",
       "      <th>LOAN</th>\n",
       "      <th>MORTDUE</th>\n",
       "      <th>VALUE</th>\n",
       "      <th>YOJ</th>\n",
       "      <th>DEROG</th>\n",
       "      <th>DELINQ</th>\n",
       "      <th>CLAGE</th>\n",
       "      <th>NINQ</th>\n",
       "      <th>CLNO</th>\n",
       "      <th>DEBTINC</th>\n",
       "    </tr>\n",
       "  </thead>\n",
       "  <tbody>\n",
       "    <tr>\n",
       "      <th>BAD</th>\n",
       "      <td>1.000000</td>\n",
       "      <td>-0.050308</td>\n",
       "      <td>-0.031129</td>\n",
       "      <td>-0.065529</td>\n",
       "      <td>-0.073637</td>\n",
       "      <td>0.241345</td>\n",
       "      <td>0.277956</td>\n",
       "      <td>-0.109192</td>\n",
       "      <td>0.115362</td>\n",
       "      <td>0.022344</td>\n",
       "      <td>0.223500</td>\n",
       "    </tr>\n",
       "    <tr>\n",
       "      <th>LOAN</th>\n",
       "      <td>-0.050308</td>\n",
       "      <td>1.000000</td>\n",
       "      <td>0.028057</td>\n",
       "      <td>0.247828</td>\n",
       "      <td>0.128024</td>\n",
       "      <td>-0.009155</td>\n",
       "      <td>-0.054462</td>\n",
       "      <td>0.019356</td>\n",
       "      <td>0.017414</td>\n",
       "      <td>-0.002721</td>\n",
       "      <td>0.140011</td>\n",
       "    </tr>\n",
       "    <tr>\n",
       "      <th>MORTDUE</th>\n",
       "      <td>-0.031129</td>\n",
       "      <td>0.028057</td>\n",
       "      <td>1.000000</td>\n",
       "      <td>0.835171</td>\n",
       "      <td>-0.114176</td>\n",
       "      <td>-0.026098</td>\n",
       "      <td>-0.039998</td>\n",
       "      <td>0.071776</td>\n",
       "      <td>0.013748</td>\n",
       "      <td>0.288954</td>\n",
       "      <td>0.208157</td>\n",
       "    </tr>\n",
       "    <tr>\n",
       "      <th>VALUE</th>\n",
       "      <td>-0.065529</td>\n",
       "      <td>0.247828</td>\n",
       "      <td>0.835171</td>\n",
       "      <td>1.000000</td>\n",
       "      <td>-0.019712</td>\n",
       "      <td>-0.065255</td>\n",
       "      <td>-0.040499</td>\n",
       "      <td>0.194025</td>\n",
       "      <td>-0.025899</td>\n",
       "      <td>0.240769</td>\n",
       "      <td>0.164817</td>\n",
       "    </tr>\n",
       "    <tr>\n",
       "      <th>YOJ</th>\n",
       "      <td>-0.073637</td>\n",
       "      <td>0.128024</td>\n",
       "      <td>-0.114176</td>\n",
       "      <td>-0.019712</td>\n",
       "      <td>1.000000</td>\n",
       "      <td>-0.060620</td>\n",
       "      <td>0.029055</td>\n",
       "      <td>0.243158</td>\n",
       "      <td>-0.051548</td>\n",
       "      <td>0.012486</td>\n",
       "      <td>-0.060718</td>\n",
       "    </tr>\n",
       "    <tr>\n",
       "      <th>DEROG</th>\n",
       "      <td>0.241345</td>\n",
       "      <td>-0.009155</td>\n",
       "      <td>-0.026098</td>\n",
       "      <td>-0.065255</td>\n",
       "      <td>-0.060620</td>\n",
       "      <td>1.000000</td>\n",
       "      <td>0.137749</td>\n",
       "      <td>-0.052049</td>\n",
       "      <td>0.145308</td>\n",
       "      <td>0.063849</td>\n",
       "      <td>0.028387</td>\n",
       "    </tr>\n",
       "    <tr>\n",
       "      <th>DELINQ</th>\n",
       "      <td>0.277956</td>\n",
       "      <td>-0.054462</td>\n",
       "      <td>-0.039998</td>\n",
       "      <td>-0.040499</td>\n",
       "      <td>0.029055</td>\n",
       "      <td>0.137749</td>\n",
       "      <td>1.000000</td>\n",
       "      <td>0.012160</td>\n",
       "      <td>-0.017848</td>\n",
       "      <td>0.123001</td>\n",
       "      <td>0.050751</td>\n",
       "    </tr>\n",
       "    <tr>\n",
       "      <th>CLAGE</th>\n",
       "      <td>-0.109192</td>\n",
       "      <td>0.019356</td>\n",
       "      <td>0.071776</td>\n",
       "      <td>0.194025</td>\n",
       "      <td>0.243158</td>\n",
       "      <td>-0.052049</td>\n",
       "      <td>0.012160</td>\n",
       "      <td>1.000000</td>\n",
       "      <td>-0.100763</td>\n",
       "      <td>0.188659</td>\n",
       "      <td>-0.058580</td>\n",
       "    </tr>\n",
       "    <tr>\n",
       "      <th>NINQ</th>\n",
       "      <td>0.115362</td>\n",
       "      <td>0.017414</td>\n",
       "      <td>0.013748</td>\n",
       "      <td>-0.025899</td>\n",
       "      <td>-0.051548</td>\n",
       "      <td>0.145308</td>\n",
       "      <td>-0.017848</td>\n",
       "      <td>-0.100763</td>\n",
       "      <td>1.000000</td>\n",
       "      <td>0.070035</td>\n",
       "      <td>0.148509</td>\n",
       "    </tr>\n",
       "    <tr>\n",
       "      <th>CLNO</th>\n",
       "      <td>0.022344</td>\n",
       "      <td>-0.002721</td>\n",
       "      <td>0.288954</td>\n",
       "      <td>0.240769</td>\n",
       "      <td>0.012486</td>\n",
       "      <td>0.063849</td>\n",
       "      <td>0.123001</td>\n",
       "      <td>0.188659</td>\n",
       "      <td>0.070035</td>\n",
       "      <td>1.000000</td>\n",
       "      <td>0.135016</td>\n",
       "    </tr>\n",
       "    <tr>\n",
       "      <th>DEBTINC</th>\n",
       "      <td>0.223500</td>\n",
       "      <td>0.140011</td>\n",
       "      <td>0.208157</td>\n",
       "      <td>0.164817</td>\n",
       "      <td>-0.060718</td>\n",
       "      <td>0.028387</td>\n",
       "      <td>0.050751</td>\n",
       "      <td>-0.058580</td>\n",
       "      <td>0.148509</td>\n",
       "      <td>0.135016</td>\n",
       "      <td>1.000000</td>\n",
       "    </tr>\n",
       "  </tbody>\n",
       "</table>\n",
       "</div>"
      ],
      "text/plain": [
       "              BAD      LOAN   MORTDUE     VALUE       YOJ     DEROG    DELINQ  \\\n",
       "BAD      1.000000 -0.050308 -0.031129 -0.065529 -0.073637  0.241345  0.277956   \n",
       "LOAN    -0.050308  1.000000  0.028057  0.247828  0.128024 -0.009155 -0.054462   \n",
       "MORTDUE -0.031129  0.028057  1.000000  0.835171 -0.114176 -0.026098 -0.039998   \n",
       "VALUE   -0.065529  0.247828  0.835171  1.000000 -0.019712 -0.065255 -0.040499   \n",
       "YOJ     -0.073637  0.128024 -0.114176 -0.019712  1.000000 -0.060620  0.029055   \n",
       "DEROG    0.241345 -0.009155 -0.026098 -0.065255 -0.060620  1.000000  0.137749   \n",
       "DELINQ   0.277956 -0.054462 -0.039998 -0.040499  0.029055  0.137749  1.000000   \n",
       "CLAGE   -0.109192  0.019356  0.071776  0.194025  0.243158 -0.052049  0.012160   \n",
       "NINQ     0.115362  0.017414  0.013748 -0.025899 -0.051548  0.145308 -0.017848   \n",
       "CLNO     0.022344 -0.002721  0.288954  0.240769  0.012486  0.063849  0.123001   \n",
       "DEBTINC  0.223500  0.140011  0.208157  0.164817 -0.060718  0.028387  0.050751   \n",
       "\n",
       "            CLAGE      NINQ      CLNO   DEBTINC  \n",
       "BAD     -0.109192  0.115362  0.022344  0.223500  \n",
       "LOAN     0.019356  0.017414 -0.002721  0.140011  \n",
       "MORTDUE  0.071776  0.013748  0.288954  0.208157  \n",
       "VALUE    0.194025 -0.025899  0.240769  0.164817  \n",
       "YOJ      0.243158 -0.051548  0.012486 -0.060718  \n",
       "DEROG   -0.052049  0.145308  0.063849  0.028387  \n",
       "DELINQ   0.012160 -0.017848  0.123001  0.050751  \n",
       "CLAGE    1.000000 -0.100763  0.188659 -0.058580  \n",
       "NINQ    -0.100763  1.000000  0.070035  0.148509  \n",
       "CLNO     0.188659  0.070035  1.000000  0.135016  \n",
       "DEBTINC -0.058580  0.148509  0.135016  1.000000  "
      ]
     },
     "execution_count": 15,
     "metadata": {},
     "output_type": "execute_result"
    }
   ],
   "source": [
    "data.corr() # test d'hypothése statistique test de Pearson"
   ]
  },
  {
   "cell_type": "code",
   "execution_count": 16,
   "metadata": {},
   "outputs": [
    {
     "data": {
      "image/png": "[encoded data removed]",
      "text/plain": [
       "<Figure size 432x288 with 2 Axes>"
      ]
     },
     "metadata": {
      "needs_background": "light"
     },
     "output_type": "display_data"
    }
   ],
   "source": [
    "plt.imshow(data.corr())\n",
    "plt.colorbar();"
   ]
  },
  {
   "cell_type": "code",
   "execution_count": 17,
   "metadata": {},
   "outputs": [
    {
     "data": {
      "image/png": "[encoded data removed]",
      "text/plain": [
       "<Figure size 432x288 with 1 Axes>"
      ]
     },
     "metadata": {
      "needs_background": "light"
     },
     "output_type": "display_data"
    }
   ],
   "source": [
    "plt.plot(data[\"MORTDUE\"] , data[\"VALUE\"], \"rp\");"
   ]
  },
  {
   "cell_type": "code",
   "execution_count": 18,
   "metadata": {},
   "outputs": [],
   "source": [
    "# Rescaling \n",
    "from sklearn.preprocessing import StandardScaler\n",
    "ss1 = StandardScaler()\n",
    "ss2 = StandardScaler()"
   ]
  },
  {
   "cell_type": "code",
   "execution_count": 19,
   "metadata": {},
   "outputs": [],
   "source": [
    "X = data.iloc[ : , 2 ].values\n",
    "Y = data.iloc[ : , 3 ].values"
   ]
  },
  {
   "cell_type": "code",
   "execution_count": null,
   "metadata": {},
   "outputs": [],
   "source": []
  },
  {
   "cell_type": "code",
   "execution_count": 20,
   "metadata": {},
   "outputs": [],
   "source": [
    "X_ss = ss1.fit_transform(X.reshape(-1,1))\n",
    "Y_ss = ss2.fit_transform(Y.reshape(-1,1))"
   ]
  },
  {
   "cell_type": "code",
   "execution_count": 21,
   "metadata": {},
   "outputs": [
    {
     "data": {
      "image/png": "[encoded data removed]",
      "text/plain": [
       "<Figure size 432x288 with 1 Axes>"
      ]
     },
     "metadata": {
      "needs_background": "light"
     },
     "output_type": "display_data"
    }
   ],
   "source": [
    "plt.plot(X_ss,Y_ss,\"rp\");"
   ]
  },
  {
   "cell_type": "code",
   "execution_count": 22,
   "metadata": {},
   "outputs": [],
   "source": [
    "# Random Sampling\n",
    "# Echantillonnage Aléatoire\n",
    "from sklearn.model_selection import train_test_split\n",
    "X_train , X_test , Y_train , Y_test = train_test_split(X_ss,Y_ss ,test_size=0.2, random_state=10)"
   ]
  },
  {
   "cell_type": "code",
   "execution_count": 23,
   "metadata": {},
   "outputs": [],
   "source": [
    "from sklearn.linear_model import LinearRegression\n",
    "model1 = LinearRegression()"
   ]
  },
  {
   "cell_type": "code",
   "execution_count": 24,
   "metadata": {},
   "outputs": [
    {
     "data": {
      "text/plain": [
       "LinearRegression(copy_X=True, fit_intercept=True, n_jobs=None,\n",
       "         normalize=False)"
      ]
     },
     "execution_count": 24,
     "metadata": {},
     "output_type": "execute_result"
    }
   ],
   "source": [
    "model1.fit(X_train,Y_train)"
   ]
  },
  {
   "cell_type": "code",
   "execution_count": 25,
   "metadata": {},
   "outputs": [
    {
     "data": {
      "text/plain": [
       "LinearRegression(copy_X=True, fit_intercept=True, n_jobs=None,\n",
       "         normalize=False)"
      ]
     },
     "execution_count": 25,
     "metadata": {},
     "output_type": "execute_result"
    }
   ],
   "source": [
    "LinearRegression(copy_X=True, fit_intercept=True, n_jobs=None, normalize=False)"
   ]
  },
  {
   "cell_type": "code",
   "execution_count": 26,
   "metadata": {},
   "outputs": [
    {
     "data": {
      "text/plain": [
       "array([-0.0019702])"
      ]
     },
     "execution_count": 26,
     "metadata": {},
     "output_type": "execute_result"
    }
   ],
   "source": [
    "model1.intercept_ # hadhia l b"
   ]
  },
  {
   "cell_type": "code",
   "execution_count": 27,
   "metadata": {},
   "outputs": [
    {
     "data": {
      "text/plain": [
       "array([[0.83454528]])"
      ]
     },
     "execution_count": 27,
     "metadata": {},
     "output_type": "execute_result"
    }
   ],
   "source": [
    "model1.coef_"
   ]
  },
  {
   "cell_type": "code",
   "execution_count": 28,
   "metadata": {},
   "outputs": [
    {
     "data": {
      "text/plain": [
       "0.6906239946145061"
      ]
     },
     "execution_count": 28,
     "metadata": {},
     "output_type": "execute_result"
    }
   ],
   "source": [
    "model1.score(X_test,Y_test)"
   ]
  },
  {
   "cell_type": "code",
   "execution_count": 29,
   "metadata": {},
   "outputs": [
    {
     "data": {
      "text/plain": [
       "LinregressResult(slope=0.8345452790650028, intercept=-0.0019702003742648223, rvalue=0.8359786297199926, pvalue=0.0, stderr=0.010721000641364987)"
      ]
     },
     "execution_count": 29,
     "metadata": {},
     "output_type": "execute_result"
    }
   ],
   "source": [
    "from scipy.stats import linregress\n",
    "linregress(X_train.reshape(2613 ),Y_train.reshape(2613 ))"
   ]
  },
  {
   "cell_type": "code",
   "execution_count": 30,
   "metadata": {},
   "outputs": [],
   "source": [
    "import dash\n",
    "import dash_core_components as dcc\n",
    "import dash_html_components as html"
   ]
  },
  {
   "cell_type": "code",
   "execution_count": 31,
   "metadata": {},
   "outputs": [],
   "source": [
    "import plotly.offline as pyo\n",
    "import plotly.graph_objs as go"
   ]
  },
  {
   "cell_type": "code",
   "execution_count": 32,
   "metadata": {},
   "outputs": [],
   "source": [
    "trace0=go.Scatter(x=list(X_train.reshape(2613)),y=list(Y_train.reshape(2613)),mode=\"markers\")\n",
    "trace1=go.Scatter(x=list(X_test.reshape(654  )),y=list(Y_test.reshape(654  )),mode=\"markers\")\n",
    "y_pred=model1.coef_*X_train.reshape(2613)+model1.intercept_\n",
    "trace2=go.Scatter(x=list(X_train.reshape(2613)),y=list(y_pred.reshape(2613)),mode=\"lines\")\n",
    "\n",
    "data=[trace0,trace1,trace2]\n"
   ]
  },
  {
   "cell_type": "code",
   "execution_count": 33,
   "metadata": {},
   "outputs": [],
   "source": [
    "layout=go.Layout(title=\"Regression lineaire\")"
   ]
  },
  {
   "cell_type": "code",
   "execution_count": 34,
   "metadata": {},
   "outputs": [],
   "source": [
    "fig=go.Figure(data=data,layout=layout)"
   ]
  },
  {
   "cell_type": "code",
   "execution_count": 35,
   "metadata": {},
   "outputs": [
    {
     "data": {
      "text/plain": [
       "'temp-plot.html'"
      ]
     },
     "execution_count": 35,
     "metadata": {},
     "output_type": "execute_result"
    }
   ],
   "source": [
    "pyo.plot(fig)"
   ]
  },
  {
   "cell_type": "code",
   "execution_count": 37,
   "metadata": {},
   "outputs": [],
   "source": [
    "app=dash.Dash()"
   ]
  },
  {
   "cell_type": "code",
   "execution_count": 38,
   "metadata": {},
   "outputs": [],
   "source": [
    "app.layout=html.Div(children=[html.H1(\"Mon premier dashboard\"),html.H2(\"modele lineaire\"),dcc.Graph(figure=fig)])"
   ]
  },
  {
   "cell_type": "code",
   "execution_count": 39,
   "metadata": {},
   "outputs": [
    {
     "name": "stdout",
     "output_type": "stream",
     "text": [
      " * Serving Flask app \"__main__\" (lazy loading)\n",
      " * Environment: production\n",
      "   WARNING: Do not use the development server in a production environment.\n",
      "   Use a production WSGI server instead.\n",
      " * Debug mode: off\n"
     ]
    },
    {
     "name": "stderr",
     "output_type": "stream",
     "text": [
      " * Running on http://127.0.0.1:8050/ (Press CTRL+C to quit)\n",
      "127.0.0.1 - - [19/Jan/2020 22:50:07] \"GET / HTTP/1.1\" 200 -\n",
      "127.0.0.1 - - [19/Jan/2020 22:50:07] \"GET /_dash-component-suites/dash_renderer/react@16.8.6.min.js?v=1.1.2&m=1571388690 HTTP/1.1\" 200 -\n",
      "127.0.0.1 - - [19/Jan/2020 22:50:07] \"GET /_dash-component-suites/dash_renderer/prop-types@15.7.2.min.js?v=1.1.2&m=1571388690 HTTP/1.1\" 200 -\n",
      "127.0.0.1 - - [19/Jan/2020 22:50:07] \"GET /_dash-component-suites/dash_renderer/react-dom@16.8.6.min.js?v=1.1.2&m=1571388690 HTTP/1.1\" 200 -\n",
      "127.0.0.1 - - [19/Jan/2020 22:50:07] \"GET /_dash-component-suites/dash_html_components/dash_html_components.min.js?v=1.0.1&m=1571388699 HTTP/1.1\" 200 -\n",
      "127.0.0.1 - - [19/Jan/2020 22:50:07] \"GET /_dash-component-suites/dash_core_components/highlight.pack.js?v=1.3.1&m=1571388694 HTTP/1.1\" 200 -\n",
      "127.0.0.1 - - [19/Jan/2020 22:50:08] \"GET /_dash-component-suites/dash_renderer/dash_renderer.min.js?v=1.1.2&m=1571388690 HTTP/1.1\" 200 -\n",
      "127.0.0.1 - - [19/Jan/2020 22:50:08] \"GET /_dash-component-suites/dash_core_components/dash_core_components.min.js?v=1.3.1&m=1571388694 HTTP/1.1\" 200 -\n",
      "127.0.0.1 - - [19/Jan/2020 22:50:08] \"GET /_dash-component-suites/dash_core_components/plotly-1.50.1.min.js?v=1.3.1&m=1571388694 HTTP/1.1\" 200 -\n",
      "127.0.0.1 - - [19/Jan/2020 22:50:08] \"GET /_dash-dependencies HTTP/1.1\" 200 -\n",
      "127.0.0.1 - - [19/Jan/2020 22:50:09] \"GET /_dash-layout HTTP/1.1\" 200 -\n"
     ]
    }
   ],
   "source": [
    "app.run_server()"
   ]
  },
  {
   "cell_type": "code",
   "execution_count": null,
   "metadata": {},
   "outputs": [],
   "source": []
  }
 ],
 "metadata": {
  "kernelspec": {
   "display_name": "Python 3",
   "language": "python",
   "name": "python3"
  },
  "language_info": {
   "codemirror_mode": {
    "name": "ipython",
    "version": 3
   },
   "file_extension": ".py",
   "mimetype": "text/x-python",
   "name": "python",
   "nbconvert_exporter": "python",
   "pygments_lexer": "ipython3",
   "version": "3.7.3"
  }
 },
 "nbformat": 4,
 "nbformat_minor": 2
}
