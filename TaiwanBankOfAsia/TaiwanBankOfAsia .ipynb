{
 "cells": [
  {
   "cell_type": "code",
   "execution_count": 1,
   "metadata": {},
   "outputs": [
    {
     "name": "stderr",
     "output_type": "stream",
     "text": [
      "C:\\Users\\lenovo\\Anaconda3\\lib\\site-packages\\sklearn\\externals\\six.py:31: DeprecationWarning:\n",
      "\n",
      "The module is deprecated in version 0.21 and will be removed in version 0.23 since we've dropped support for Python 2.7. Please rely on the official version of six (https://pypi.org/project/six/).\n",
      "\n"
     ]
    }
   ],
   "source": [
    "import numpy as np \n",
    "import pandas as pd \n",
    "from sklearn.preprocessing import RobustScaler\n",
    "from sklearn.preprocessing import StandardScaler\n",
    "from sklearn.preprocessing import MinMaxScaler\n",
    "import matplotlib.pyplot as plt\n",
    "from sklearn.cluster import KMeans\n",
    "from sklearn.cluster import DBSCAN\n",
    "from sklearn import decomposition\n",
    "from sklearn.tree import DecisionTreeClassifier\n",
    "from sklearn import metrics \n",
    "from sklearn.model_selection import train_test_split\n",
    "from sklearn.neighbors import KNeighborsClassifier\n",
    "import plotly.offline as pyo\n",
    "import plotly.graph_objs as go\n",
    "import dash_core_components as dcc\n",
    "import dash_html_components as html\n",
    "import seaborn as sns; sns.set(font_scale=1.2)\n",
    "import plotly.graph_objs as go\n",
    "import dash\n",
    "import dash_bootstrap_components as dbc\n",
    "import plotly.express as px\n",
    "from sklearn.tree import export_graphviz\n",
    "from sklearn.externals.six import StringIO  \n",
    "from IPython.display import Image  \n",
    "import pydotplus\n",
    "from dash.dependencies import Input, Output\n",
    "from sklearn.metrics import classification_report\n",
    "from sklearn.metrics import confusion_matrix\n",
    "from sklearn import svm\n",
    "from sklearn import linear_model, datasets\n",
    "from sklearn.metrics import accuracy_score\n",
    "from sklearn.datasets import make_blobs\n",
    "from scipy.cluster.hierarchy import dendrogram, linkage,fcluster,set_link_color_palette\n",
    "%matplotlib inline"
   ]
  },
  {
   "cell_type": "markdown",
   "metadata": {},
   "source": [
    "# I - Lecture et compréhension de données "
   ]
  },
  {
   "cell_type": "markdown",
   "metadata": {},
   "source": [
    "### 1 - Lecture de données"
   ]
  },
  {
   "cell_type": "code",
   "execution_count": 2,
   "metadata": {},
   "outputs": [],
   "source": [
    "data = pd.read_excel(\"DataFiles/default of credit card clients.xls\")"
   ]
  },
  {
   "cell_type": "code",
   "execution_count": 3,
   "metadata": {},
   "outputs": [
    {
     "data": {
      "text/plain": [
       "False"
      ]
     },
     "execution_count": 3,
     "metadata": {},
     "output_type": "execute_result"
    }
   ],
   "source": [
    "data.isna().values.any()"
   ]
  },
  {
   "cell_type": "code",
   "execution_count": 4,
   "metadata": {},
   "outputs": [
    {
     "data": {
      "text/plain": [
       "(30001, 25)"
      ]
     },
     "execution_count": 4,
     "metadata": {},
     "output_type": "execute_result"
    }
   ],
   "source": [
    "data.shape"
   ]
  },
  {
   "cell_type": "code",
   "execution_count": 5,
   "metadata": {},
   "outputs": [],
   "source": [
    "data.head();"
   ]
  },
  {
   "cell_type": "code",
   "execution_count": 6,
   "metadata": {},
   "outputs": [
    {
     "data": {
      "text/html": [
       "<div>\n",
       "<style scoped>\n",
       "    .dataframe tbody tr th:only-of-type {\n",
       "        vertical-align: middle;\n",
       "    }\n",
       "\n",
       "    .dataframe tbody tr th {\n",
       "        vertical-align: top;\n",
       "    }\n",
       "\n",
       "    .dataframe thead th {\n",
       "        text-align: right;\n",
       "    }\n",
       "</style>\n",
       "<table border=\"1\" class=\"dataframe\">\n",
       "  <thead>\n",
       "    <tr style=\"text-align: right;\">\n",
       "      <th></th>\n",
       "      <th>Unnamed: 0</th>\n",
       "      <th>X1</th>\n",
       "      <th>X2</th>\n",
       "      <th>X3</th>\n",
       "      <th>X4</th>\n",
       "      <th>X5</th>\n",
       "      <th>X6</th>\n",
       "      <th>X7</th>\n",
       "      <th>X8</th>\n",
       "      <th>X9</th>\n",
       "      <th>...</th>\n",
       "      <th>X15</th>\n",
       "      <th>X16</th>\n",
       "      <th>X17</th>\n",
       "      <th>X18</th>\n",
       "      <th>X19</th>\n",
       "      <th>X20</th>\n",
       "      <th>X21</th>\n",
       "      <th>X22</th>\n",
       "      <th>X23</th>\n",
       "      <th>Y</th>\n",
       "    </tr>\n",
       "  </thead>\n",
       "  <tbody>\n",
       "    <tr>\n",
       "      <th>1</th>\n",
       "      <td>1</td>\n",
       "      <td>20000</td>\n",
       "      <td>2</td>\n",
       "      <td>2</td>\n",
       "      <td>1</td>\n",
       "      <td>24</td>\n",
       "      <td>2</td>\n",
       "      <td>2</td>\n",
       "      <td>-1</td>\n",
       "      <td>-1</td>\n",
       "      <td>...</td>\n",
       "      <td>0</td>\n",
       "      <td>0</td>\n",
       "      <td>0</td>\n",
       "      <td>0</td>\n",
       "      <td>689</td>\n",
       "      <td>0</td>\n",
       "      <td>0</td>\n",
       "      <td>0</td>\n",
       "      <td>0</td>\n",
       "      <td>1</td>\n",
       "    </tr>\n",
       "    <tr>\n",
       "      <th>2</th>\n",
       "      <td>2</td>\n",
       "      <td>120000</td>\n",
       "      <td>2</td>\n",
       "      <td>2</td>\n",
       "      <td>2</td>\n",
       "      <td>26</td>\n",
       "      <td>-1</td>\n",
       "      <td>2</td>\n",
       "      <td>0</td>\n",
       "      <td>0</td>\n",
       "      <td>...</td>\n",
       "      <td>3272</td>\n",
       "      <td>3455</td>\n",
       "      <td>3261</td>\n",
       "      <td>0</td>\n",
       "      <td>1000</td>\n",
       "      <td>1000</td>\n",
       "      <td>1000</td>\n",
       "      <td>0</td>\n",
       "      <td>2000</td>\n",
       "      <td>1</td>\n",
       "    </tr>\n",
       "    <tr>\n",
       "      <th>3</th>\n",
       "      <td>3</td>\n",
       "      <td>90000</td>\n",
       "      <td>2</td>\n",
       "      <td>2</td>\n",
       "      <td>2</td>\n",
       "      <td>34</td>\n",
       "      <td>0</td>\n",
       "      <td>0</td>\n",
       "      <td>0</td>\n",
       "      <td>0</td>\n",
       "      <td>...</td>\n",
       "      <td>14331</td>\n",
       "      <td>14948</td>\n",
       "      <td>15549</td>\n",
       "      <td>1518</td>\n",
       "      <td>1500</td>\n",
       "      <td>1000</td>\n",
       "      <td>1000</td>\n",
       "      <td>1000</td>\n",
       "      <td>5000</td>\n",
       "      <td>0</td>\n",
       "    </tr>\n",
       "    <tr>\n",
       "      <th>4</th>\n",
       "      <td>4</td>\n",
       "      <td>50000</td>\n",
       "      <td>2</td>\n",
       "      <td>2</td>\n",
       "      <td>1</td>\n",
       "      <td>37</td>\n",
       "      <td>0</td>\n",
       "      <td>0</td>\n",
       "      <td>0</td>\n",
       "      <td>0</td>\n",
       "      <td>...</td>\n",
       "      <td>28314</td>\n",
       "      <td>28959</td>\n",
       "      <td>29547</td>\n",
       "      <td>2000</td>\n",
       "      <td>2019</td>\n",
       "      <td>1200</td>\n",
       "      <td>1100</td>\n",
       "      <td>1069</td>\n",
       "      <td>1000</td>\n",
       "      <td>0</td>\n",
       "    </tr>\n",
       "    <tr>\n",
       "      <th>5</th>\n",
       "      <td>5</td>\n",
       "      <td>50000</td>\n",
       "      <td>1</td>\n",
       "      <td>2</td>\n",
       "      <td>1</td>\n",
       "      <td>57</td>\n",
       "      <td>-1</td>\n",
       "      <td>0</td>\n",
       "      <td>-1</td>\n",
       "      <td>0</td>\n",
       "      <td>...</td>\n",
       "      <td>20940</td>\n",
       "      <td>19146</td>\n",
       "      <td>19131</td>\n",
       "      <td>2000</td>\n",
       "      <td>36681</td>\n",
       "      <td>10000</td>\n",
       "      <td>9000</td>\n",
       "      <td>689</td>\n",
       "      <td>679</td>\n",
       "      <td>0</td>\n",
       "    </tr>\n",
       "  </tbody>\n",
       "</table>\n",
       "<p>5 rows × 25 columns</p>\n",
       "</div>"
      ],
      "text/plain": [
       "  Unnamed: 0      X1 X2 X3 X4  X5  X6 X7  X8  X9  ...    X15    X16    X17  \\\n",
       "1          1   20000  2  2  1  24   2  2  -1  -1  ...      0      0      0   \n",
       "2          2  120000  2  2  2  26  -1  2   0   0  ...   3272   3455   3261   \n",
       "3          3   90000  2  2  2  34   0  0   0   0  ...  14331  14948  15549   \n",
       "4          4   50000  2  2  1  37   0  0   0   0  ...  28314  28959  29547   \n",
       "5          5   50000  1  2  1  57  -1  0  -1   0  ...  20940  19146  19131   \n",
       "\n",
       "    X18    X19    X20   X21   X22   X23  Y  \n",
       "1     0    689      0     0     0     0  1  \n",
       "2     0   1000   1000  1000     0  2000  1  \n",
       "3  1518   1500   1000  1000  1000  5000  0  \n",
       "4  2000   2019   1200  1100  1069  1000  0  \n",
       "5  2000  36681  10000  9000   689   679  0  \n",
       "\n",
       "[5 rows x 25 columns]"
      ]
     },
     "execution_count": 6,
     "metadata": {},
     "output_type": "execute_result"
    }
   ],
   "source": [
    "#The first row is equivalent to the header and the last column is the target column\n",
    "data1 = data.iloc[1:,:]\n",
    "data1.head()"
   ]
  },
  {
   "cell_type": "code",
   "execution_count": 7,
   "metadata": {},
   "outputs": [
    {
     "data": {
      "text/plain": [
       "array([2, -1, 0, -2, 1, 3, 4, 8, 7, 5, 6], dtype=object)"
      ]
     },
     "execution_count": 7,
     "metadata": {},
     "output_type": "execute_result"
    }
   ],
   "source": [
    "data1[\"X6\"].unique()"
   ]
  },
  {
   "cell_type": "markdown",
   "metadata": {},
   "source": [
    "### 2 - Comprehension de données"
   ]
  },
  {
   "cell_type": "code",
   "execution_count": 8,
   "metadata": {},
   "outputs": [
    {
     "data": {
      "image/png": "[encoded data removed]",
      "text/plain": [
       "<Figure size 360x360 with 1 Axes>"
      ]
     },
     "metadata": {
      "needs_background": "light"
     },
     "output_type": "display_data"
    }
   ],
   "source": [
    "ax = sns.lmplot(\"X5\",\"X1\",data=data1,fit_reg=False,scatter_kws={\"s\":70})\n",
    "ax.set(xlabel=\"Age\",ylabel=\"Montant du Credit\")\n",
    "plt.show()"
   ]
  },
  {
   "cell_type": "markdown",
   "metadata": {},
   "source": [
    "on remarque que les personnes ayant l'âge entre 20 et 30 ans ont plus souvent des credit inferieur à 500000"
   ]
  },
  {
   "cell_type": "code",
   "execution_count": 9,
   "metadata": {},
   "outputs": [
    {
     "data": {
      "image/png": "[encoded data removed]",
      "text/plain": [
       "<Figure size 414.895x360 with 1 Axes>"
      ]
     },
     "metadata": {
      "needs_background": "light"
     },
     "output_type": "display_data"
    }
   ],
   "source": [
    "ax = sns.lmplot(\"X5\",\"Y\",data=data1,fit_reg=False,scatter_kws={\"s\":70},hue=\"Y\")\n",
    "ax.set(xlabel=\"Age\",ylabel=\"Classe de client\")\n",
    "plt.show()"
   ]
  },
  {
   "cell_type": "code",
   "execution_count": 10,
   "metadata": {},
   "outputs": [
    {
     "name": "stderr",
     "output_type": "stream",
     "text": [
      "C:\\Users\\lenovo\\Anaconda3\\lib\\site-packages\\ipykernel_launcher.py:6: FutureWarning:\n",
      "\n",
      "The 'get_values' method is deprecated and will be removed in a future version. Use '.to_numpy()' or '.array' instead.\n",
      "\n",
      "C:\\Users\\lenovo\\Anaconda3\\lib\\site-packages\\ipykernel_launcher.py:7: FutureWarning:\n",
      "\n",
      "The 'get_values' method is deprecated and will be removed in a future version. Use '.to_numpy()' or '.array' instead.\n",
      "\n",
      "C:\\Users\\lenovo\\Anaconda3\\lib\\site-packages\\ipykernel_launcher.py:8: FutureWarning:\n",
      "\n",
      "The 'get_values' method is deprecated and will be removed in a future version. Use '.to_numpy()' or '.array' instead.\n",
      "\n"
     ]
    },
    {
     "data": {
      "image/png": "[encoded data removed]",
      "text/plain": [
       "<Figure size 432x288 with 1 Axes>"
      ]
     },
     "metadata": {
      "needs_background": "light"
     },
     "output_type": "display_data"
    }
   ],
   "source": [
    "bill_amount= data1.iloc[:,12]\n",
    "pay_amount= data1.iloc[:,18]\n",
    "dif=bill_amount- pay_amount\n",
    "((data1.mean() - data1.median()) / data1.mean()).abs()\n",
    "dif.sort_values()\n",
    "pos =( dif.get_values() > 0 ).sum()\n",
    "neg = ( dif.get_values() < 0 ).sum()\n",
    "null =( dif.get_values() == 0 ).sum()\n",
    "percent_pos = (pos*100) / dif.count()\n",
    "percent_neg = (neg*100) / dif.count()\n",
    "percent_null = (null*100) / dif.count()\n",
    "fake = pd.DataFrame({'cat': ['Creditor', 'debtor', 'balanced'], 'val': [percent_pos, percent_neg, percent_null]})\n",
    "ax =sns.barplot(x='cat',y=\"val\", data = fake,color = 'red')\n",
    "ax.set(xlabel=\"payement difference in month of September\",ylabel ='pourcentage')\n",
    "ax.set_xticklabels(ax.get_xticklabels(),rotation=45)\n",
    "plt.show()"
   ]
  },
  {
   "cell_type": "markdown",
   "metadata": {},
   "source": [
    "Pour le mois de Septembre on remarque que la plupart des clients (78.44%) sont créditeur puis on trouve des faibles valeurs pour les clients débiteurs (16.31% ) et équilibré(6%)"
   ]
  },
  {
   "cell_type": "code",
   "execution_count": 11,
   "metadata": {},
   "outputs": [
    {
     "data": {
      "image/png": "[encoded data removed]",
      "text/plain": [
       "<Figure size 432x288 with 1 Axes>"
      ]
     },
     "metadata": {
      "needs_background": "light"
     },
     "output_type": "display_data"
    }
   ],
   "source": [
    "sns.countplot(data1['Y'],label=\"Count\")\n",
    "plt.show()"
   ]
  },
  {
   "cell_type": "markdown",
   "metadata": {},
   "source": [
    "On remarque que le nombre de clients qui ne vont pas payer le mois prochain (25000) est trés elevé par rapports aux clients qui vont payer (10000)."
   ]
  },
  {
   "cell_type": "markdown",
   "metadata": {},
   "source": [
    "# II - centrage reduction de données"
   ]
  },
  {
   "cell_type": "markdown",
   "metadata": {},
   "source": [
    "Dans la partie qui suit on va faire le centrage réduction de données avec trois differents Scalers : \n",
    "- Standard Scaler : (X - µ) / sigma\n",
    "- Robust Scaler : (X - mediane)/IQR (interquantile range)\n",
    "- MinMax Scaler :( X - min) / (max - min)"
   ]
  },
  {
   "cell_type": "code",
   "execution_count": 12,
   "metadata": {},
   "outputs": [],
   "source": [
    "dataKmeans = data.iloc[1:,1:24]"
   ]
  },
  {
   "cell_type": "code",
   "execution_count": 13,
   "metadata": {},
   "outputs": [],
   "source": [
    "ss = StandardScaler()\n",
    "rs = RobustScaler()\n",
    "mms = MinMaxScaler()"
   ]
  },
  {
   "cell_type": "code",
   "execution_count": 14,
   "metadata": {},
   "outputs": [],
   "source": [
    "dataKmeansSs = ss.fit_transform(dataKmeans)\n",
    "dataKmeansRs = rs.fit_transform(dataKmeans)\n",
    "dataKmeansMms = mms.fit_transform(dataKmeans)"
   ]
  },
  {
   "cell_type": "markdown",
   "metadata": {},
   "source": [
    "# III - Application de K-means"
   ]
  },
  {
   "cell_type": "markdown",
   "metadata": {},
   "source": [
    "### 1 - Determiner le nombre de cluster par la methode d' ELBOW "
   ]
  },
  {
   "cell_type": "markdown",
   "metadata": {},
   "source": [
    "#### A - Donnée non centré reduites "
   ]
  },
  {
   "cell_type": "code",
   "execution_count": 15,
   "metadata": {},
   "outputs": [
    {
     "data": {
      "image/png": "[encoded data removed]",
      "text/plain": [
       "<Figure size 432x288 with 1 Axes>"
      ]
     },
     "metadata": {
      "needs_background": "light"
     },
     "output_type": "display_data"
    }
   ],
   "source": [
    "y=[]\n",
    "for i in range(1, 11):\n",
    "    kmeans = KMeans(n_clusters=i, init='k-means++', random_state=0)\n",
    "    kmeans.fit(dataKmeans)\n",
    "    y.append(kmeans.inertia_)\n",
    "plt.plot(range(1, 11), y)\n",
    "plt.title('Elbow Method')\n",
    "plt.xlabel('Number of clusters')\n",
    "plt.ylabel('WCSS')\n",
    "plt.show()\n"
   ]
  },
  {
   "cell_type": "markdown",
   "metadata": {},
   "source": [
    "on remarque que le nombre de cluster convenable est 2 (la cassure et au niveau 2)"
   ]
  },
  {
   "cell_type": "markdown",
   "metadata": {},
   "source": [
    "#### B - Donnée centre réduites avec StandardScaler"
   ]
  },
  {
   "cell_type": "code",
   "execution_count": 16,
   "metadata": {},
   "outputs": [
    {
     "data": {
      "image/png": "[encoded data removed]",
      "text/plain": [
       "<Figure size 432x288 with 1 Axes>"
      ]
     },
     "metadata": {
      "needs_background": "light"
     },
     "output_type": "display_data"
    }
   ],
   "source": [
    "y=[]\n",
    "for i in range(1, 11):\n",
    "    kmeans = KMeans(n_clusters=i, init='k-means++', random_state=0)\n",
    "    kmeans.fit(dataKmeansSs)\n",
    "    y.append(kmeans.inertia_)\n",
    "plt.plot(range(1, 11), y)\n",
    "plt.title('Elbow Method')\n",
    "plt.xlabel('Number of clusters')\n",
    "plt.ylabel('WCSS')\n",
    "plt.show()"
   ]
  },
  {
   "cell_type": "markdown",
   "metadata": {},
   "source": [
    "standard scaler a donnée le même resultat que les données non centré reduites on passe à tester le RobustScaler"
   ]
  },
  {
   "cell_type": "markdown",
   "metadata": {},
   "source": [
    "#### C - Donnée centre réduites avec RobustScaler"
   ]
  },
  {
   "cell_type": "code",
   "execution_count": 17,
   "metadata": {},
   "outputs": [
    {
     "data": {
      "image/png": "[encoded data removed]",
      "text/plain": [
       "<Figure size 432x288 with 1 Axes>"
      ]
     },
     "metadata": {
      "needs_background": "light"
     },
     "output_type": "display_data"
    }
   ],
   "source": [
    "y=[]\n",
    "for i in range(1, 11):\n",
    "    kmeans = KMeans(n_clusters=i, init='k-means++', random_state=0)\n",
    "    kmeans.fit(dataKmeansRs)\n",
    "    y.append(kmeans.inertia_)\n",
    "plt.plot(range(1, 11), y)\n",
    "plt.title('Elbow Method')\n",
    "plt.xlabel('Number of clusters')\n",
    "plt.ylabel('WCSS')\n",
    "plt.show()"
   ]
  },
  {
   "cell_type": "markdown",
   "metadata": {},
   "source": [
    "on remarque que le courbe descent progressivement de maniére qu'il ny'as pas de cassure bien visible donc dans notre clustering on ne vas pas utliser les donnée centré reduites avec Robust Scaler"
   ]
  },
  {
   "cell_type": "markdown",
   "metadata": {},
   "source": [
    "#### D - Donnée centre réduites avec MinMaxScaler"
   ]
  },
  {
   "cell_type": "code",
   "execution_count": 18,
   "metadata": {},
   "outputs": [
    {
     "data": {
      "image/png": "[encoded data removed]",
      "text/plain": [
       "<Figure size 432x288 with 1 Axes>"
      ]
     },
     "metadata": {
      "needs_background": "light"
     },
     "output_type": "display_data"
    }
   ],
   "source": [
    "y=[]\n",
    "for i in range(1, 11):\n",
    "    kmeans = KMeans(n_clusters=i, init='k-means++', random_state=0)\n",
    "    kmeans.fit(dataKmeansMms)\n",
    "    y.append(kmeans.inertia_)\n",
    "plt.plot(range(1, 11), y)\n",
    "plt.title('Elbow Method')\n",
    "plt.xlabel('Number of clusters')\n",
    "plt.ylabel('WCSS')\n",
    "plt.show()"
   ]
  },
  {
   "cell_type": "markdown",
   "metadata": {},
   "source": [
    "on remarque que la cassure est bien visible au niveau du nombre de cluster 2 "
   ]
  },
  {
   "cell_type": "markdown",
   "metadata": {},
   "source": [
    "#### F - Prise de  décision "
   ]
  },
  {
   "cell_type": "markdown",
   "metadata": {},
   "source": [
    "durant notre clustering on va utiliser les données centré reduites avec StandardScaler qui on presque donnée les mêmes resultats que les données non centrés reduites et aussi on va utiliser les donnée centrés reduites avec MinMaxScaler.\n",
    "on va considerer 2 cluster dans notre analyse et on choisirera aprés les données qui on donné le meilleur résultat"
   ]
  },
  {
   "cell_type": "markdown",
   "metadata": {},
   "source": [
    "### 2 - Clustering"
   ]
  },
  {
   "cell_type": "markdown",
   "metadata": {},
   "source": [
    "#### A - Donnée centre réduites avec StandardScaler"
   ]
  },
  {
   "cell_type": "markdown",
   "metadata": {},
   "source": [
    "Dans cette partie on va applique le K-Means on considerons 2 clusters avec les données centrés reduites avec StandardScaler et MinMaxScaler"
   ]
  },
  {
   "cell_type": "code",
   "execution_count": 19,
   "metadata": {},
   "outputs": [],
   "source": [
    "kmeans = KMeans(n_clusters=2, init='k-means++', random_state=0)\n",
    "predict = kmeans.fit(dataKmeansSs)"
   ]
  },
  {
   "cell_type": "code",
   "execution_count": 20,
   "metadata": {},
   "outputs": [],
   "source": [
    "dataComp = data.iloc[1:,:]"
   ]
  },
  {
   "cell_type": "code",
   "execution_count": 21,
   "metadata": {},
   "outputs": [
    {
     "name": "stderr",
     "output_type": "stream",
     "text": [
      "C:\\Users\\lenovo\\Anaconda3\\lib\\site-packages\\ipykernel_launcher.py:1: SettingWithCopyWarning:\n",
      "\n",
      "\n",
      "A value is trying to be set on a copy of a slice from a DataFrame.\n",
      "Try using .loc[row_indexer,col_indexer] = value instead\n",
      "\n",
      "See the caveats in the documentation: http://pandas.pydata.org/pandas-docs/stable/user_guide/indexing.html#returning-a-view-versus-a-copy\n",
      "\n"
     ]
    }
   ],
   "source": [
    "dataComp[\"Kmeans\"]=predict.labels_"
   ]
  },
  {
   "cell_type": "code",
   "execution_count": 22,
   "metadata": {},
   "outputs": [
    {
     "data": {
      "text/html": [
       "<div>\n",
       "<style scoped>\n",
       "    .dataframe tbody tr th:only-of-type {\n",
       "        vertical-align: middle;\n",
       "    }\n",
       "\n",
       "    .dataframe tbody tr th {\n",
       "        vertical-align: top;\n",
       "    }\n",
       "\n",
       "    .dataframe thead th {\n",
       "        text-align: right;\n",
       "    }\n",
       "</style>\n",
       "<table border=\"1\" class=\"dataframe\">\n",
       "  <thead>\n",
       "    <tr style=\"text-align: right;\">\n",
       "      <th>col_0</th>\n",
       "      <th>0</th>\n",
       "      <th>1</th>\n",
       "    </tr>\n",
       "    <tr>\n",
       "      <th>Y</th>\n",
       "      <th></th>\n",
       "      <th></th>\n",
       "    </tr>\n",
       "  </thead>\n",
       "  <tbody>\n",
       "    <tr>\n",
       "      <th>0</th>\n",
       "      <td>19743</td>\n",
       "      <td>3621</td>\n",
       "    </tr>\n",
       "    <tr>\n",
       "      <th>1</th>\n",
       "      <td>5655</td>\n",
       "      <td>981</td>\n",
       "    </tr>\n",
       "  </tbody>\n",
       "</table>\n",
       "</div>"
      ],
      "text/plain": [
       "col_0      0     1\n",
       "Y                 \n",
       "0      19743  3621\n",
       "1       5655   981"
      ]
     },
     "execution_count": 22,
     "metadata": {},
     "output_type": "execute_result"
    }
   ],
   "source": [
    "pd.crosstab(dataComp[\"Y\"],predict.labels_)"
   ]
  },
  {
   "cell_type": "markdown",
   "metadata": {},
   "source": [
    "##### Conclusion :\n",
    "D'aprés le crosstab généré aprés l'application du K-Means on remarque que le clustering n'est pas fiable puisque le cluster 0 contient les eux type de clients (ceux qui payeront et ce qui ne payeront pas )"
   ]
  },
  {
   "cell_type": "markdown",
   "metadata": {},
   "source": [
    "#### B - Donnée centre réduites avec MinMaxScaler"
   ]
  },
  {
   "cell_type": "code",
   "execution_count": 23,
   "metadata": {},
   "outputs": [],
   "source": [
    "kmeans = KMeans(n_clusters=2, init='k-means++', random_state=0)\n",
    "predict = kmeans.fit(dataKmeansMms)"
   ]
  },
  {
   "cell_type": "code",
   "execution_count": 24,
   "metadata": {},
   "outputs": [
    {
     "name": "stderr",
     "output_type": "stream",
     "text": [
      "C:\\Users\\lenovo\\Anaconda3\\lib\\site-packages\\ipykernel_launcher.py:2: SettingWithCopyWarning:\n",
      "\n",
      "\n",
      "A value is trying to be set on a copy of a slice from a DataFrame.\n",
      "Try using .loc[row_indexer,col_indexer] = value instead\n",
      "\n",
      "See the caveats in the documentation: http://pandas.pydata.org/pandas-docs/stable/user_guide/indexing.html#returning-a-view-versus-a-copy\n",
      "\n"
     ]
    }
   ],
   "source": [
    "dataComp1 = data.iloc[1:,:]\n",
    "dataComp1[\"KmeansMms\"]=predict.labels_"
   ]
  },
  {
   "cell_type": "code",
   "execution_count": 25,
   "metadata": {},
   "outputs": [
    {
     "data": {
      "text/html": [
       "<div>\n",
       "<style scoped>\n",
       "    .dataframe tbody tr th:only-of-type {\n",
       "        vertical-align: middle;\n",
       "    }\n",
       "\n",
       "    .dataframe tbody tr th {\n",
       "        vertical-align: top;\n",
       "    }\n",
       "\n",
       "    .dataframe thead th {\n",
       "        text-align: right;\n",
       "    }\n",
       "</style>\n",
       "<table border=\"1\" class=\"dataframe\">\n",
       "  <thead>\n",
       "    <tr style=\"text-align: right;\">\n",
       "      <th>col_0</th>\n",
       "      <th>0</th>\n",
       "      <th>1</th>\n",
       "    </tr>\n",
       "    <tr>\n",
       "      <th>Y</th>\n",
       "      <th></th>\n",
       "      <th></th>\n",
       "    </tr>\n",
       "  </thead>\n",
       "  <tbody>\n",
       "    <tr>\n",
       "      <th>0</th>\n",
       "      <td>9015</td>\n",
       "      <td>14349</td>\n",
       "    </tr>\n",
       "    <tr>\n",
       "      <th>1</th>\n",
       "      <td>2873</td>\n",
       "      <td>3763</td>\n",
       "    </tr>\n",
       "  </tbody>\n",
       "</table>\n",
       "</div>"
      ],
      "text/plain": [
       "col_0     0      1\n",
       "Y                 \n",
       "0      9015  14349\n",
       "1      2873   3763"
      ]
     },
     "execution_count": 25,
     "metadata": {},
     "output_type": "execute_result"
    }
   ],
   "source": [
    "pd.crosstab(dataComp1[\"Y\"],predict.labels_)"
   ]
  },
  {
   "cell_type": "markdown",
   "metadata": {},
   "source": [
    "##### Conclusion : \n",
    "On remarque que le clustering avec les données centré réduites avec MinMaxScaler ont données les mêmes resultats que StandardScaler et donc on peut déduire que :\n",
    "- Cluster 1 : Les clients qui ont payé leurs dettes avant ou dans le delai ( bon  clients )\n",
    "- Cluster 0 : Les clients qui n'ont payé leurs dettes ou ont payés avec beaucoup de retard (mauvais client)"
   ]
  },
  {
   "cell_type": "markdown",
   "metadata": {},
   "source": [
    "#### 3 - Clustering avec CAH"
   ]
  },
  {
   "cell_type": "code",
   "execution_count": null,
   "metadata": {},
   "outputs": [],
   "source": [
    "Z = linkage(dataKmeansMms,'ward')\n",
    "plt.figure(figsize=(12, 10))\n",
    "plt.title('Classification Hiérarchique Ascendante', fontsize=20)\n",
    "d = dendrogram(Z)\n",
    "plt.show()"
   ]
  },
  {
   "cell_type": "markdown",
   "metadata": {},
   "source": [
    "selon le dendogramme affiche ci-dessus avec l'algorithme non supervisé CAH et en utilisant le type de distance ward on remarque la presence de deux partitions  ( tres grande valeur intraclasses et une faible valeur interclasses ) d'ou on va proceder avec deux clusters : le cluster en vert , le cluster en rouge . "
   ]
  },
  {
   "cell_type": "code",
   "execution_count": null,
   "metadata": {},
   "outputs": [],
   "source": [
    "clusters = fcluster(Z,criterion='distance', t=5)\n",
    "pd.crosstab(data1[\"Y\"],clusters)"
   ]
  },
  {
   "cell_type": "markdown",
   "metadata": {},
   "source": [
    "# IV - Methodes supérvisé"
   ]
  },
  {
   "cell_type": "markdown",
   "metadata": {},
   "source": [
    "### 1 - Application de Decision Tree"
   ]
  },
  {
   "cell_type": "markdown",
   "metadata": {},
   "source": [
    "#### a - Standard Scaler"
   ]
  },
  {
   "cell_type": "code",
   "execution_count": 29,
   "metadata": {},
   "outputs": [],
   "source": [
    "data2 = data.iloc[1:,1:]\n",
    "X_DT_ss = pd.DataFrame(dataKmeansSs).iloc[:,:]\n",
    "Y_DT_ss =list(data2[\"Y\"])"
   ]
  },
  {
   "cell_type": "code",
   "execution_count": 30,
   "metadata": {},
   "outputs": [],
   "source": [
    "X_train_ss, X_test_ss, y_train_ss, y_test_ss = train_test_split(X_DT_ss, Y_DT_ss, random_state=0)\n"
   ]
  },
  {
   "cell_type": "code",
   "execution_count": 31,
   "metadata": {},
   "outputs": [],
   "source": [
    "clf = DecisionTreeClassifier()\n",
    "clf = clf.fit(X_train_ss,y_train_ss)"
   ]
  },
  {
   "cell_type": "code",
   "execution_count": 32,
   "metadata": {},
   "outputs": [],
   "source": [
    "y_pred_ss = clf.predict(X_test_ss)"
   ]
  },
  {
   "cell_type": "code",
   "execution_count": 33,
   "metadata": {},
   "outputs": [
    {
     "name": "stdout",
     "output_type": "stream",
     "text": [
      "Accuracy: 0.7281333333333333\n"
     ]
    }
   ],
   "source": [
    "print(\"Accuracy:\",metrics.accuracy_score(y_test_ss, y_pred_ss))"
   ]
  },
  {
   "cell_type": "code",
   "execution_count": 34,
   "metadata": {},
   "outputs": [
    {
     "name": "stdout",
     "output_type": "stream",
     "text": [
      "[[4789 1079]\n",
      " [ 960  672]]\n"
     ]
    }
   ],
   "source": [
    "print(confusion_matrix(y_test_ss, y_pred_ss))"
   ]
  },
  {
   "cell_type": "markdown",
   "metadata": {},
   "source": [
    "vrai positif : 4769  , vrai negatif : 676\n",
    "faux positif : 1072  , faux negatif : 956\n",
    "\n",
    "pour 5868 peronnes qui ne vont pas payer le mois d'octobre 4769 ont etaient predit correctement alors que 1072 ont donnés une fausse prediction . \n",
    "\n",
    "pour 1632 peronnes qui  vont pas payer le mois d'octobre 676 ont etaient predit correctement alors que 956 ont donnés une fausse prediction . "
   ]
  },
  {
   "cell_type": "code",
   "execution_count": 35,
   "metadata": {},
   "outputs": [
    {
     "name": "stdout",
     "output_type": "stream",
     "text": [
      "              precision    recall  f1-score   support\n",
      "\n",
      "           0       0.83      0.82      0.82      5868\n",
      "           1       0.38      0.41      0.40      1632\n",
      "\n",
      "    accuracy                           0.73      7500\n",
      "   macro avg       0.61      0.61      0.61      7500\n",
      "weighted avg       0.74      0.73      0.73      7500\n",
      "\n"
     ]
    }
   ],
   "source": [
    "print(classification_report(y_test_ss, y_pred_ss))"
   ]
  },
  {
   "cell_type": "markdown",
   "metadata": {},
   "source": [
    "l'application de randomForest avec le type de scalling (standard scaler ) a donnée une performence plus au moins bonne 0.73 , concernant les precisions on remarque une tres bonne prediction pour les personnes qui ne vont payer pour le mois d'octobre (0.83) , par contre il y a une baisse de precision pour les personnes qui vont payer pour le mois d'octobre 0.39 (a ameliorer ) ."
   ]
  },
  {
   "cell_type": "markdown",
   "metadata": {},
   "source": [
    "#### b - Robust Scaler"
   ]
  },
  {
   "cell_type": "code",
   "execution_count": 36,
   "metadata": {},
   "outputs": [],
   "source": [
    "X_DT_rs = dataKmeansRs\n",
    "Y_DT_rs =list(data2[\"Y\"])"
   ]
  },
  {
   "cell_type": "code",
   "execution_count": 37,
   "metadata": {},
   "outputs": [],
   "source": [
    "X_train_rs, X_test_rs, y_train_rs, y_test_rs = train_test_split(X_DT_rs, Y_DT_rs, random_state=0)"
   ]
  },
  {
   "cell_type": "code",
   "execution_count": 38,
   "metadata": {},
   "outputs": [],
   "source": [
    "clf_rs = DecisionTreeClassifier()\n",
    "clf_rs = clf.fit(X_train_rs,y_train_rs)"
   ]
  },
  {
   "cell_type": "code",
   "execution_count": 39,
   "metadata": {},
   "outputs": [],
   "source": [
    "y_pred_rs = clf.predict(X_test_rs)"
   ]
  },
  {
   "cell_type": "code",
   "execution_count": 40,
   "metadata": {},
   "outputs": [
    {
     "name": "stdout",
     "output_type": "stream",
     "text": [
      "Accuracy: 0.7313333333333333\n"
     ]
    }
   ],
   "source": [
    "print(\"Accuracy:\",metrics.accuracy_score(y_test_rs, y_pred_rs))"
   ]
  },
  {
   "cell_type": "code",
   "execution_count": 41,
   "metadata": {},
   "outputs": [
    {
     "name": "stdout",
     "output_type": "stream",
     "text": [
      "[[4796 1072]\n",
      " [ 943  689]]\n"
     ]
    }
   ],
   "source": [
    "print(confusion_matrix(y_test_rs, y_pred_rs))"
   ]
  },
  {
   "cell_type": "code",
   "execution_count": 42,
   "metadata": {},
   "outputs": [
    {
     "name": "stdout",
     "output_type": "stream",
     "text": [
      "              precision    recall  f1-score   support\n",
      "\n",
      "           0       0.84      0.82      0.83      5868\n",
      "           1       0.39      0.42      0.41      1632\n",
      "\n",
      "    accuracy                           0.73      7500\n",
      "   macro avg       0.61      0.62      0.62      7500\n",
      "weighted avg       0.74      0.73      0.73      7500\n",
      "\n"
     ]
    }
   ],
   "source": [
    "print(classification_report(y_test_rs, y_pred_rs))"
   ]
  },
  {
   "cell_type": "code",
   "execution_count": null,
   "metadata": {},
   "outputs": [],
   "source": []
  },
  {
   "cell_type": "markdown",
   "metadata": {},
   "source": [
    "#### c - MinMax Scaler"
   ]
  },
  {
   "cell_type": "code",
   "execution_count": 43,
   "metadata": {},
   "outputs": [],
   "source": [
    "X_DT_mms = dataKmeansMms\n",
    "Y_DT_mms =list(data2[\"Y\"])"
   ]
  },
  {
   "cell_type": "code",
   "execution_count": 44,
   "metadata": {},
   "outputs": [],
   "source": [
    "X_train_mms, X_test_mms, y_train_mms, y_test_mms = train_test_split(X_DT_mms, Y_DT_mms, random_state=0)"
   ]
  },
  {
   "cell_type": "code",
   "execution_count": 45,
   "metadata": {},
   "outputs": [],
   "source": [
    "clf_mms= DecisionTreeClassifier()\n",
    "clf_mms= clf.fit(X_train_mms,y_train_mms)"
   ]
  },
  {
   "cell_type": "code",
   "execution_count": 46,
   "metadata": {},
   "outputs": [],
   "source": [
    "y_pred_mms = clf.predict(X_test_mms)"
   ]
  },
  {
   "cell_type": "code",
   "execution_count": 47,
   "metadata": {},
   "outputs": [
    {
     "name": "stdout",
     "output_type": "stream",
     "text": [
      "Accuracy: 0.7325333333333334\n"
     ]
    }
   ],
   "source": [
    "print(\"Accuracy:\",metrics.accuracy_score(y_test_mms, y_pred_mms))"
   ]
  },
  {
   "cell_type": "code",
   "execution_count": 48,
   "metadata": {},
   "outputs": [
    {
     "name": "stdout",
     "output_type": "stream",
     "text": [
      "[[4807 1061]\n",
      " [ 945  687]]\n"
     ]
    }
   ],
   "source": [
    "print(confusion_matrix(y_test_mms, y_pred_mms))"
   ]
  },
  {
   "cell_type": "code",
   "execution_count": 49,
   "metadata": {},
   "outputs": [
    {
     "name": "stdout",
     "output_type": "stream",
     "text": [
      "              precision    recall  f1-score   support\n",
      "\n",
      "           0       0.84      0.82      0.83      5868\n",
      "           1       0.39      0.42      0.41      1632\n",
      "\n",
      "    accuracy                           0.73      7500\n",
      "   macro avg       0.61      0.62      0.62      7500\n",
      "weighted avg       0.74      0.73      0.74      7500\n",
      "\n"
     ]
    }
   ],
   "source": [
    "print(classification_report(y_test_mms, y_pred_mms))"
   ]
  },
  {
   "cell_type": "markdown",
   "metadata": {},
   "source": [
    "### 2 - Application de KNN"
   ]
  },
  {
   "cell_type": "markdown",
   "metadata": {},
   "source": [
    "#### a - Standard Scaler"
   ]
  },
  {
   "cell_type": "code",
   "execution_count": 50,
   "metadata": {},
   "outputs": [
    {
     "data": {
      "text/plain": [
       "Text(0, 0.5, 'Erreur')"
      ]
     },
     "execution_count": 50,
     "metadata": {},
     "output_type": "execute_result"
    },
    {
     "data": {
      "image/png": "[encoded data removed]",
      "text/plain": [
       "<Figure size 720x360 with 1 Axes>"
      ]
     },
     "metadata": {
      "needs_background": "light"
     },
     "output_type": "display_data"
    }
   ],
   "source": [
    "\n",
    "error = []\n",
    "for i in range(1, 40):\n",
    "    knn = KNeighborsClassifier(i)\n",
    "    knn_model = knn.fit(X_train_ss, y_train_ss)\n",
    "    pred_i = knn_model.predict(X_test_ss)\n",
    "    error.append(np.mean(pred_i != y_test_ss))\n",
    "\n",
    "plt.figure(figsize=(10, 5))\n",
    "plt.plot(range(1, 40), error, color='red', linestyle='dashed', marker='o',\n",
    "         markerfacecolor='blue', markersize=10)\n",
    "plt.title('Taux Erreur pour les differentes valeurs de k')\n",
    "plt.xlabel('K ')\n",
    "plt.ylabel('Erreur')"
   ]
  },
  {
   "cell_type": "markdown",
   "metadata": {},
   "source": [
    "le nombre de voisin ideale pour ces données est 24 puisq'il le une erreur minimale (0.05)"
   ]
  },
  {
   "cell_type": "code",
   "execution_count": 51,
   "metadata": {},
   "outputs": [],
   "source": [
    "knn_ss = KNeighborsClassifier(24)\n",
    "knn_model_ss = knn_ss.fit(X_train_ss, y_train_ss)\n",
    "y_pred_knn_ss= knn_model_ss.predict(X_test_ss)"
   ]
  },
  {
   "cell_type": "code",
   "execution_count": 52,
   "metadata": {},
   "outputs": [
    {
     "name": "stdout",
     "output_type": "stream",
     "text": [
      "Accuracy of Random Forest classifier on training set: 0.82\n",
      "Accuracy of Random Forest classifier on test set: 0.81\n"
     ]
    }
   ],
   "source": [
    "print('Accuracy of Random Forest classifier on training set: {:.2f}'\n",
    "     .format(knn_ss.score(X_train_ss, y_train_ss)))\n",
    "print('Accuracy of Random Forest classifier on test set: {:.2f}'\n",
    "     .format(knn_ss.score(X_test_ss, y_test_ss)))"
   ]
  },
  {
   "cell_type": "code",
   "execution_count": 53,
   "metadata": {},
   "outputs": [
    {
     "name": "stdout",
     "output_type": "stream",
     "text": [
      "[[5623  245]\n",
      " [1164  468]]\n"
     ]
    }
   ],
   "source": [
    "print(confusion_matrix(y_test_ss, y_pred_knn_ss))"
   ]
  },
  {
   "cell_type": "code",
   "execution_count": 54,
   "metadata": {},
   "outputs": [
    {
     "name": "stdout",
     "output_type": "stream",
     "text": [
      "              precision    recall  f1-score   support\n",
      "\n",
      "           0       0.83      0.96      0.89      5868\n",
      "           1       0.66      0.29      0.40      1632\n",
      "\n",
      "    accuracy                           0.81      7500\n",
      "   macro avg       0.74      0.62      0.64      7500\n",
      "weighted avg       0.79      0.81      0.78      7500\n",
      "\n"
     ]
    }
   ],
   "source": [
    "print(classification_report(y_test_ss, y_pred_knn_ss))"
   ]
  },
  {
   "cell_type": "markdown",
   "metadata": {},
   "source": [
    "#### b - Robust Scaler"
   ]
  },
  {
   "cell_type": "code",
   "execution_count": 55,
   "metadata": {},
   "outputs": [
    {
     "data": {
      "text/plain": [
       "Text(0, 0.5, 'Erreur')"
      ]
     },
     "execution_count": 55,
     "metadata": {},
     "output_type": "execute_result"
    },
    {
     "data": {
      "image/png": "[encoded data removed]",
      "text/plain": [
       "<Figure size 720x360 with 1 Axes>"
      ]
     },
     "metadata": {
      "needs_background": "light"
     },
     "output_type": "display_data"
    }
   ],
   "source": [
    "error = []\n",
    "for i in range(1, 40):\n",
    "    knn = KNeighborsClassifier(i)\n",
    "    knn_model = knn.fit(X_train_rs, y_train_rs)\n",
    "    pred_i = knn_model.predict(X_test_rs)\n",
    "    error.append(np.mean(pred_i != y_test_rs))\n",
    "plt.figure(figsize=(10, 5))\n",
    "plt.plot(range(1, 40), error, color='red', linestyle='dashed', marker='o',\n",
    "         markerfacecolor='blue', markersize=10)\n",
    "plt.title('Taux Erreur pour les differentes valeurs de k')\n",
    "plt.xlabel('K ')\n",
    "plt.ylabel('Erreur')"
   ]
  },
  {
   "cell_type": "code",
   "execution_count": 56,
   "metadata": {},
   "outputs": [],
   "source": [
    "knn_rs = KNeighborsClassifier(24)\n",
    "knn_model_rs = knn_rs.fit(X_train_rs, y_train_rs)\n",
    "y_pred_knn_rs= knn_model_rs.predict(X_test_rs)"
   ]
  },
  {
   "cell_type": "code",
   "execution_count": 57,
   "metadata": {},
   "outputs": [
    {
     "name": "stdout",
     "output_type": "stream",
     "text": [
      "Accuracy of Random Forest classifier on training set: 0.82\n",
      "Accuracy of Random Forest classifier on test set: 0.81\n"
     ]
    }
   ],
   "source": [
    "print('Accuracy of Random Forest classifier on training set: {:.2f}'\n",
    "     .format(knn_rs.score(X_train_rs, y_train_rs)))\n",
    "print('Accuracy of Random Forest classifier on test set: {:.2f}'\n",
    "     .format(knn_rs.score(X_test_rs, y_test_rs)))"
   ]
  },
  {
   "cell_type": "code",
   "execution_count": 58,
   "metadata": {},
   "outputs": [
    {
     "name": "stdout",
     "output_type": "stream",
     "text": [
      "              precision    recall  f1-score   support\n",
      "\n",
      "           0       0.83      0.96      0.89      5868\n",
      "           1       0.66      0.30      0.42      1632\n",
      "\n",
      "    accuracy                           0.81      7500\n",
      "   macro avg       0.75      0.63      0.65      7500\n",
      "weighted avg       0.79      0.81      0.79      7500\n",
      "\n"
     ]
    }
   ],
   "source": [
    "print(classification_report(y_test_rs, y_pred_knn_rs))"
   ]
  },
  {
   "cell_type": "code",
   "execution_count": null,
   "metadata": {},
   "outputs": [],
   "source": []
  },
  {
   "cell_type": "markdown",
   "metadata": {},
   "source": [
    "#### c - MinMax Scaler"
   ]
  },
  {
   "cell_type": "code",
   "execution_count": 59,
   "metadata": {},
   "outputs": [
    {
     "data": {
      "text/plain": [
       "Text(0, 0.5, 'Erreur')"
      ]
     },
     "execution_count": 59,
     "metadata": {},
     "output_type": "execute_result"
    },
    {
     "data": {
      "image/png": "[encoded data removed]",
      "text/plain": [
       "<Figure size 720x360 with 1 Axes>"
      ]
     },
     "metadata": {
      "needs_background": "light"
     },
     "output_type": "display_data"
    }
   ],
   "source": [
    "error = []\n",
    "for i in range(1, 40):\n",
    "    knn = KNeighborsClassifier(i)\n",
    "    knn_model = knn.fit(X_train_mms, y_train_mms)\n",
    "    pred_i = knn_model.predict(X_test_mms)\n",
    "    error.append(np.mean(pred_i != y_test_mms))\n",
    "\n",
    "plt.figure(figsize=(10, 5))\n",
    "plt.plot(range(1, 40), error, color='red', linestyle='dashed', marker='o',\n",
    "         markerfacecolor='blue', markersize=10)\n",
    "plt.title('Taux Erreur pour les differentes valeurs de k')\n",
    "plt.xlabel('K ')\n",
    "plt.ylabel('Erreur')"
   ]
  },
  {
   "cell_type": "code",
   "execution_count": 60,
   "metadata": {},
   "outputs": [],
   "source": [
    "knn_mms = KNeighborsClassifier(24)\n",
    "knn_model_mms = knn_mms.fit(X_train_mms, y_train_mms)\n",
    "y_pred_knn_mms= knn_model_mms.predict(X_test_mms)"
   ]
  },
  {
   "cell_type": "code",
   "execution_count": 61,
   "metadata": {},
   "outputs": [
    {
     "name": "stdout",
     "output_type": "stream",
     "text": [
      "Accuracy of Random Forest classifier on training set: 0.82\n",
      "Accuracy of Random Forest classifier on test set: 0.81\n"
     ]
    }
   ],
   "source": [
    "print('Accuracy of Random Forest classifier on training set: {:.2f}'\n",
    "     .format(knn_mms.score(X_train_mms, y_train_mms)))\n",
    "print('Accuracy of Random Forest classifier on test set: {:.2f}'\n",
    "     .format(knn_mms.score(X_test_mms, y_test_mms)))"
   ]
  },
  {
   "cell_type": "code",
   "execution_count": 62,
   "metadata": {},
   "outputs": [
    {
     "name": "stdout",
     "output_type": "stream",
     "text": [
      "              precision    recall  f1-score   support\n",
      "\n",
      "           0       0.83      0.96      0.89      5868\n",
      "           1       0.64      0.28      0.39      1632\n",
      "\n",
      "    accuracy                           0.81      7500\n",
      "   macro avg       0.73      0.62      0.64      7500\n",
      "weighted avg       0.79      0.81      0.78      7500\n",
      "\n"
     ]
    }
   ],
   "source": [
    "print(classification_report(y_test_mms, y_pred_knn_mms))"
   ]
  },
  {
   "cell_type": "code",
   "execution_count": null,
   "metadata": {},
   "outputs": [],
   "source": []
  },
  {
   "cell_type": "code",
   "execution_count": null,
   "metadata": {},
   "outputs": [],
   "source": [
    "dot_data = StringIO()\n",
    "export_graphviz(clf, out_file=dot_data,  \n",
    "                filled=True, rounded=True,\n",
    "                special_characters=True,feature_names = X_DT.columns,class_names=['0','1'])\n",
    "graph = pydotplus.graph_from_dot_data(dot_data.getvalue())  "
   ]
  },
  {
   "cell_type": "code",
   "execution_count": null,
   "metadata": {},
   "outputs": [],
   "source": [
    "graph.write_png('mytree.png')"
   ]
  },
  {
   "cell_type": "markdown",
   "metadata": {},
   "source": [
    "#### 3 - Support Vector machine"
   ]
  },
  {
   "cell_type": "markdown",
   "metadata": {},
   "source": [
    "on a choisi d'utliser les donnée centré reduite avec MinMax Scaler puisque il donne toujours des résultats meilleurs"
   ]
  },
  {
   "cell_type": "code",
   "execution_count": 63,
   "metadata": {},
   "outputs": [],
   "source": [
    "model_svm=svm.SVC(kernel='linear',gamma='scale',probability=True).fit(X_train_mms,y_train_mms)\n",
    "y_pred_svm=model_svm.predict(X_test_mms)"
   ]
  },
  {
   "cell_type": "code",
   "execution_count": 64,
   "metadata": {},
   "outputs": [
    {
     "name": "stdout",
     "output_type": "stream",
     "text": [
      "              precision    recall  f1-score   support\n",
      "\n",
      "           0       0.82      0.98      0.89      5868\n",
      "           1       0.73      0.24      0.36      1632\n",
      "\n",
      "    accuracy                           0.82      7500\n",
      "   macro avg       0.78      0.61      0.63      7500\n",
      "weighted avg       0.80      0.82      0.78      7500\n",
      "\n"
     ]
    }
   ],
   "source": [
    "print(classification_report(y_test_mms, y_pred_svm))"
   ]
  },
  {
   "cell_type": "code",
   "execution_count": 65,
   "metadata": {},
   "outputs": [
    {
     "data": {
      "image/png": "[encoded data removed]",
      "text/plain": [
       "<Figure size 432x288 with 1 Axes>"
      ]
     },
     "metadata": {
      "needs_background": "light"
     },
     "output_type": "display_data"
    }
   ],
   "source": [
    "proba_svm  = model_svm.predict_proba(X_test_mms)\n",
    "preds_svm  = proba_svm[:,0]\n",
    "fp5r, tp5r, threshold = metrics.roc_curve(y_test_mms, preds_svm,pos_label=0)\n",
    "plt.plot(fp5r,tp5r)\n",
    "plt.plot([0, 1], [0, 1], 'k--')\n",
    "plt.ylabel('True Positive ')\n",
    "plt.xlabel('False Positive ')\n",
    "plt.show()"
   ]
  },
  {
   "cell_type": "markdown",
   "metadata": {},
   "source": [
    "#### 4 - Linear Regression"
   ]
  },
  {
   "cell_type": "code",
   "execution_count": 66,
   "metadata": {},
   "outputs": [
    {
     "name": "stderr",
     "output_type": "stream",
     "text": [
      "C:\\Users\\lenovo\\Anaconda3\\lib\\site-packages\\sklearn\\linear_model\\logistic.py:432: FutureWarning:\n",
      "\n",
      "Default solver will be changed to 'lbfgs' in 0.22. Specify a solver to silence this warning.\n",
      "\n"
     ]
    }
   ],
   "source": [
    "modele_regression_logistique = linear_model. LogisticRegression ()\n",
    "model_regression= modele_regression_logistique.fit(X_train_mms, y_train_mms)\n",
    "y_pred_reg=model_regression.predict(X_test_mms)"
   ]
  },
  {
   "cell_type": "code",
   "execution_count": 67,
   "metadata": {},
   "outputs": [
    {
     "name": "stdout",
     "output_type": "stream",
     "text": [
      "              precision    recall  f1-score   support\n",
      "\n",
      "           0       0.82      0.98      0.89      5868\n",
      "           1       0.74      0.22      0.33      1632\n",
      "\n",
      "    accuracy                           0.81      7500\n",
      "   macro avg       0.78      0.60      0.61      7500\n",
      "weighted avg       0.80      0.81      0.77      7500\n",
      "\n"
     ]
    }
   ],
   "source": [
    "print(classification_report(y_test_mms, y_pred_reg))"
   ]
  },
  {
   "cell_type": "code",
   "execution_count": 68,
   "metadata": {},
   "outputs": [
    {
     "data": {
      "image/png": "[encoded data removed]",
      "text/plain": [
       "<Figure size 432x288 with 1 Axes>"
      ]
     },
     "metadata": {
      "needs_background": "light"
     },
     "output_type": "display_data"
    }
   ],
   "source": [
    "proba_reg  = model_regression.predict_proba(X_test_mms)\n",
    "preds_Reg  = proba_reg[:,0]\n",
    "fp4r, tp4r, threshold = metrics.roc_curve(y_test_mms, preds_Reg, pos_label=0)\n",
    "plt.plot(fp4r,tp4r)\n",
    "plt.plot([0, 1], [0, 1], 'k--')\n",
    "plt.ylabel('True Positive ')\n",
    "plt.xlabel('False Positive ')\n",
    "plt.show()"
   ]
  },
  {
   "cell_type": "markdown",
   "metadata": {},
   "source": [
    "# Dashboarding"
   ]
  },
  {
   "cell_type": "code",
   "execution_count": 69,
   "metadata": {},
   "outputs": [],
   "source": [
    "data2 = data.iloc[1:,1:]"
   ]
  },
  {
   "cell_type": "code",
   "execution_count": 70,
   "metadata": {},
   "outputs": [
    {
     "data": {
      "image/png": "[encoded data removed]",
      "text/plain": [
       "<Figure size 432x288 with 1 Axes>"
      ]
     },
     "metadata": {
      "needs_background": "light"
     },
     "output_type": "display_data"
    }
   ],
   "source": [
    "dataforboxplot1 = [data2[\"X6\"][data2[\"Y\"]==1],data2[\"X7\"][data2[\"Y\"]==1],\n",
    "                 data2[\"X8\"][data2[\"Y\"]==1],data2[\"X9\"][data2[\"Y\"]==1],\n",
    "                 data2[\"X10\"][data2[\"Y\"]==1],data2[\"X11\"][data2[\"Y\"]==1]]\n",
    "plt.boxplot(dataforboxplot1);"
   ]
  },
  {
   "cell_type": "code",
   "execution_count": 71,
   "metadata": {},
   "outputs": [
    {
     "data": {
      "image/png": "[encoded data removed]",
      "text/plain": [
       "<Figure size 432x288 with 1 Axes>"
      ]
     },
     "metadata": {
      "needs_background": "light"
     },
     "output_type": "display_data"
    }
   ],
   "source": [
    "dataforboxplot0 = [data2[\"X6\"][data2[\"Y\"]==0],data2[\"X7\"][data2[\"Y\"]==0],\n",
    "                 data2[\"X8\"][data2[\"Y\"]==0],data2[\"X9\"][data2[\"Y\"]==0],\n",
    "                 data2[\"X10\"][data2[\"Y\"]==0],data2[\"X11\"][data2[\"Y\"]==0]]\n",
    "plt.boxplot(dataforboxplot0);"
   ]
  },
  {
   "cell_type": "markdown",
   "metadata": {},
   "source": [
    "boxplot cluster 0"
   ]
  },
  {
   "cell_type": "code",
   "execution_count": 72,
   "metadata": {},
   "outputs": [],
   "source": [
    "dataplot = [ go.Box(y=dataforboxplot1[0]),\n",
    "        go.Box(y=dataforboxplot1[1]),\n",
    "        go.Box(y=dataforboxplot1[2]),\n",
    "        go.Box(y=dataforboxplot1[3]),\n",
    "        go.Box(y=dataforboxplot1[4]),\n",
    "        go.Box(y=dataforboxplot1[5])\n",
    "       ]\n",
    "dataplot2 = [ go.Box(y=dataforboxplot0[0]),\n",
    "        go.Box(y=dataforboxplot0[1]),\n",
    "        go.Box(y=dataforboxplot0[2]),\n",
    "        go.Box(y=dataforboxplot0[3]),\n",
    "        go.Box(y=dataforboxplot0[4]),\n",
    "        go.Box(y=dataforboxplot0[5])\n",
    "       ]\n",
    "dataplot_3 = [go.Bar(x= [\"percent_pos\", \"percent_neg\", \"percent_null\"] ,\n",
    "                    y = [percent_pos, percent_neg, percent_null]\n",
    "                    \n",
    "                    )]\n",
    "#barplotGenderPay = px.bar(data2,x=\"X2\",y=\"X1\",color=\"Y\",barmode=\"group\")  \n",
    "layout = go.Layout(title=\"Etat de paiment\",\n",
    "                  xaxis={\"title\":\"Etat de paiment pour le cluster 1\"},\n",
    "                  yaxis=dict(title=\"la variable y\"))\n",
    "layout2 = go.Layout(title=\"Etat de paiment\",\n",
    "                  xaxis={\"title\":\"Etat de paiment pour le cluster 0\"},\n",
    "                  yaxis=dict(title=\"la variable y\"))\n",
    "layout3 = go.Layout(title=\"Etat de paiment par sexe\",\n",
    "                  xaxis={\"title\":\"Sexe\"},\n",
    "                  yaxis=dict(title=\"Count\"))\n",
    "\n",
    "\n",
    "\n",
    "\n",
    "layout_3 = go.Layout(title=\"Etat de paiment pour le mois de septembre\",\n",
    "                  xaxis={\"title\":\"Etat de paiment\"},\n",
    "                  yaxis=dict(title=\"pourcentage\"))\n",
    "\n",
    "fig = go.Figure(data = dataplot, layout=layout)\n",
    "fig2 = go.Figure(data = dataplot2, layout=layout2)\n",
    "fig_3 = go.Figure(data = dataplot_3, layout=layout_3)\n",
    "#fig3= barplotGenderPay\n",
    "\n",
    "\n"
   ]
  },
  {
   "cell_type": "code",
   "execution_count": 529,
   "metadata": {},
   "outputs": [],
   "source": [
    "trace1 = go.Bar(\n",
    "    x=data2[\"X2\"][data2[\"Y\"]==0],\n",
    "    name='Will pay'\n",
    ")\n",
    "trace2 = go.Bar(\n",
    "    x=data2[\"X2\"][data2[\"Y\"]==1],\n",
    "    name='Will not pay'\n",
    ")\n",
    "\n",
    "data = [trace1, trace2]\n",
    "layout = go.Layout(\n",
    "    barmode='stack'\n",
    ")\n",
    "\n",
    "fig5 = go.Figure(data=data, layout=layout)\n"
   ]
  },
  {
   "cell_type": "code",
   "execution_count": 530,
   "metadata": {},
   "outputs": [],
   "source": [
    "app = dash.Dash(external_stylesheets=[dbc.themes.BOOTSTRAP])\n",
    "navbar = dbc.NavbarSimple(\n",
    "    children=[\n",
    "        dbc.NavItem(dbc.NavLink(\"Some Boxplotes\", href=\"\")),\n",
    "    ],\n",
    "    brand=\"Dashboard by Mustapha & Dhia\",\n",
    "    brand_href=\"#\",\n",
    "    color=\"primary\",\n",
    "    dark=True,\n",
    ")\n",
    "boxplot =  dcc.Graph(\n",
    "        id='example-graph',\n",
    "        figure=fig\n",
    "    )\n",
    "boxplot2 =  dcc.Graph(\n",
    "        id='example-graph1',\n",
    "        figure=fig2\n",
    "    )\n",
    "barplot=dcc.Graph(\n",
    "        id=\"barplotGender\",\n",
    "        figure=fig5\n",
    ")\n",
    "\n",
    "app.layout = html.Div(children=[\n",
    "    html.Div(navbar),\n",
    "    html.Div(boxplot),\n",
    "    html.Div(boxplot2),\n",
    "    html.Div(barplot)\n",
    "])"
   ]
  },
  {
   "cell_type": "code",
   "execution_count": 531,
   "metadata": {},
   "outputs": [
    {
     "data": {
      "text/plain": [
       "range(1, 23364)"
      ]
     },
     "execution_count": 531,
     "metadata": {},
     "output_type": "execute_result"
    }
   ],
   "source": [
    "y1=range(1,len(data2[\"X2\"][data2[\"Y\"]==0]))\n",
    "y1"
   ]
  },
  {
   "cell_type": "code",
   "execution_count": 532,
   "metadata": {},
   "outputs": [
    {
     "data": {
      "text/html": [
       "<div>\n",
       "<style scoped>\n",
       "    .dataframe tbody tr th:only-of-type {\n",
       "        vertical-align: middle;\n",
       "    }\n",
       "\n",
       "    .dataframe tbody tr th {\n",
       "        vertical-align: top;\n",
       "    }\n",
       "\n",
       "    .dataframe thead th {\n",
       "        text-align: right;\n",
       "    }\n",
       "</style>\n",
       "<table border=\"1\" class=\"dataframe\">\n",
       "  <thead>\n",
       "    <tr style=\"text-align: right;\">\n",
       "      <th></th>\n",
       "      <th>X1</th>\n",
       "      <th>X2</th>\n",
       "      <th>X3</th>\n",
       "      <th>X4</th>\n",
       "      <th>X5</th>\n",
       "      <th>X6</th>\n",
       "      <th>X7</th>\n",
       "      <th>X8</th>\n",
       "      <th>X9</th>\n",
       "      <th>X10</th>\n",
       "      <th>...</th>\n",
       "      <th>X15</th>\n",
       "      <th>X16</th>\n",
       "      <th>X17</th>\n",
       "      <th>X18</th>\n",
       "      <th>X19</th>\n",
       "      <th>X20</th>\n",
       "      <th>X21</th>\n",
       "      <th>X22</th>\n",
       "      <th>X23</th>\n",
       "      <th>Y</th>\n",
       "    </tr>\n",
       "  </thead>\n",
       "  <tbody>\n",
       "    <tr>\n",
       "      <th>1</th>\n",
       "      <td>20000</td>\n",
       "      <td>2</td>\n",
       "      <td>2</td>\n",
       "      <td>1</td>\n",
       "      <td>24</td>\n",
       "      <td>2</td>\n",
       "      <td>2</td>\n",
       "      <td>-1</td>\n",
       "      <td>-1</td>\n",
       "      <td>-2</td>\n",
       "      <td>...</td>\n",
       "      <td>0</td>\n",
       "      <td>0</td>\n",
       "      <td>0</td>\n",
       "      <td>0</td>\n",
       "      <td>689</td>\n",
       "      <td>0</td>\n",
       "      <td>0</td>\n",
       "      <td>0</td>\n",
       "      <td>0</td>\n",
       "      <td>1</td>\n",
       "    </tr>\n",
       "    <tr>\n",
       "      <th>2</th>\n",
       "      <td>120000</td>\n",
       "      <td>2</td>\n",
       "      <td>2</td>\n",
       "      <td>2</td>\n",
       "      <td>26</td>\n",
       "      <td>-1</td>\n",
       "      <td>2</td>\n",
       "      <td>0</td>\n",
       "      <td>0</td>\n",
       "      <td>0</td>\n",
       "      <td>...</td>\n",
       "      <td>3272</td>\n",
       "      <td>3455</td>\n",
       "      <td>3261</td>\n",
       "      <td>0</td>\n",
       "      <td>1000</td>\n",
       "      <td>1000</td>\n",
       "      <td>1000</td>\n",
       "      <td>0</td>\n",
       "      <td>2000</td>\n",
       "      <td>1</td>\n",
       "    </tr>\n",
       "    <tr>\n",
       "      <th>3</th>\n",
       "      <td>90000</td>\n",
       "      <td>2</td>\n",
       "      <td>2</td>\n",
       "      <td>2</td>\n",
       "      <td>34</td>\n",
       "      <td>0</td>\n",
       "      <td>0</td>\n",
       "      <td>0</td>\n",
       "      <td>0</td>\n",
       "      <td>0</td>\n",
       "      <td>...</td>\n",
       "      <td>14331</td>\n",
       "      <td>14948</td>\n",
       "      <td>15549</td>\n",
       "      <td>1518</td>\n",
       "      <td>1500</td>\n",
       "      <td>1000</td>\n",
       "      <td>1000</td>\n",
       "      <td>1000</td>\n",
       "      <td>5000</td>\n",
       "      <td>0</td>\n",
       "    </tr>\n",
       "    <tr>\n",
       "      <th>4</th>\n",
       "      <td>50000</td>\n",
       "      <td>2</td>\n",
       "      <td>2</td>\n",
       "      <td>1</td>\n",
       "      <td>37</td>\n",
       "      <td>0</td>\n",
       "      <td>0</td>\n",
       "      <td>0</td>\n",
       "      <td>0</td>\n",
       "      <td>0</td>\n",
       "      <td>...</td>\n",
       "      <td>28314</td>\n",
       "      <td>28959</td>\n",
       "      <td>29547</td>\n",
       "      <td>2000</td>\n",
       "      <td>2019</td>\n",
       "      <td>1200</td>\n",
       "      <td>1100</td>\n",
       "      <td>1069</td>\n",
       "      <td>1000</td>\n",
       "      <td>0</td>\n",
       "    </tr>\n",
       "    <tr>\n",
       "      <th>5</th>\n",
       "      <td>50000</td>\n",
       "      <td>1</td>\n",
       "      <td>2</td>\n",
       "      <td>1</td>\n",
       "      <td>57</td>\n",
       "      <td>-1</td>\n",
       "      <td>0</td>\n",
       "      <td>-1</td>\n",
       "      <td>0</td>\n",
       "      <td>0</td>\n",
       "      <td>...</td>\n",
       "      <td>20940</td>\n",
       "      <td>19146</td>\n",
       "      <td>19131</td>\n",
       "      <td>2000</td>\n",
       "      <td>36681</td>\n",
       "      <td>10000</td>\n",
       "      <td>9000</td>\n",
       "      <td>689</td>\n",
       "      <td>679</td>\n",
       "      <td>0</td>\n",
       "    </tr>\n",
       "    <tr>\n",
       "      <th>...</th>\n",
       "      <td>...</td>\n",
       "      <td>...</td>\n",
       "      <td>...</td>\n",
       "      <td>...</td>\n",
       "      <td>...</td>\n",
       "      <td>...</td>\n",
       "      <td>...</td>\n",
       "      <td>...</td>\n",
       "      <td>...</td>\n",
       "      <td>...</td>\n",
       "      <td>...</td>\n",
       "      <td>...</td>\n",
       "      <td>...</td>\n",
       "      <td>...</td>\n",
       "      <td>...</td>\n",
       "      <td>...</td>\n",
       "      <td>...</td>\n",
       "      <td>...</td>\n",
       "      <td>...</td>\n",
       "      <td>...</td>\n",
       "      <td>...</td>\n",
       "    </tr>\n",
       "    <tr>\n",
       "      <th>29996</th>\n",
       "      <td>220000</td>\n",
       "      <td>1</td>\n",
       "      <td>3</td>\n",
       "      <td>1</td>\n",
       "      <td>39</td>\n",
       "      <td>0</td>\n",
       "      <td>0</td>\n",
       "      <td>0</td>\n",
       "      <td>0</td>\n",
       "      <td>0</td>\n",
       "      <td>...</td>\n",
       "      <td>88004</td>\n",
       "      <td>31237</td>\n",
       "      <td>15980</td>\n",
       "      <td>8500</td>\n",
       "      <td>20000</td>\n",
       "      <td>5003</td>\n",
       "      <td>3047</td>\n",
       "      <td>5000</td>\n",
       "      <td>1000</td>\n",
       "      <td>0</td>\n",
       "    </tr>\n",
       "    <tr>\n",
       "      <th>29997</th>\n",
       "      <td>150000</td>\n",
       "      <td>1</td>\n",
       "      <td>3</td>\n",
       "      <td>2</td>\n",
       "      <td>43</td>\n",
       "      <td>-1</td>\n",
       "      <td>-1</td>\n",
       "      <td>-1</td>\n",
       "      <td>-1</td>\n",
       "      <td>0</td>\n",
       "      <td>...</td>\n",
       "      <td>8979</td>\n",
       "      <td>5190</td>\n",
       "      <td>0</td>\n",
       "      <td>1837</td>\n",
       "      <td>3526</td>\n",
       "      <td>8998</td>\n",
       "      <td>129</td>\n",
       "      <td>0</td>\n",
       "      <td>0</td>\n",
       "      <td>0</td>\n",
       "    </tr>\n",
       "    <tr>\n",
       "      <th>29998</th>\n",
       "      <td>30000</td>\n",
       "      <td>1</td>\n",
       "      <td>2</td>\n",
       "      <td>2</td>\n",
       "      <td>37</td>\n",
       "      <td>4</td>\n",
       "      <td>3</td>\n",
       "      <td>2</td>\n",
       "      <td>-1</td>\n",
       "      <td>0</td>\n",
       "      <td>...</td>\n",
       "      <td>20878</td>\n",
       "      <td>20582</td>\n",
       "      <td>19357</td>\n",
       "      <td>0</td>\n",
       "      <td>0</td>\n",
       "      <td>22000</td>\n",
       "      <td>4200</td>\n",
       "      <td>2000</td>\n",
       "      <td>3100</td>\n",
       "      <td>1</td>\n",
       "    </tr>\n",
       "    <tr>\n",
       "      <th>29999</th>\n",
       "      <td>80000</td>\n",
       "      <td>1</td>\n",
       "      <td>3</td>\n",
       "      <td>1</td>\n",
       "      <td>41</td>\n",
       "      <td>1</td>\n",
       "      <td>-1</td>\n",
       "      <td>0</td>\n",
       "      <td>0</td>\n",
       "      <td>0</td>\n",
       "      <td>...</td>\n",
       "      <td>52774</td>\n",
       "      <td>11855</td>\n",
       "      <td>48944</td>\n",
       "      <td>85900</td>\n",
       "      <td>3409</td>\n",
       "      <td>1178</td>\n",
       "      <td>1926</td>\n",
       "      <td>52964</td>\n",
       "      <td>1804</td>\n",
       "      <td>1</td>\n",
       "    </tr>\n",
       "    <tr>\n",
       "      <th>30000</th>\n",
       "      <td>50000</td>\n",
       "      <td>1</td>\n",
       "      <td>2</td>\n",
       "      <td>1</td>\n",
       "      <td>46</td>\n",
       "      <td>0</td>\n",
       "      <td>0</td>\n",
       "      <td>0</td>\n",
       "      <td>0</td>\n",
       "      <td>0</td>\n",
       "      <td>...</td>\n",
       "      <td>36535</td>\n",
       "      <td>32428</td>\n",
       "      <td>15313</td>\n",
       "      <td>2078</td>\n",
       "      <td>1800</td>\n",
       "      <td>1430</td>\n",
       "      <td>1000</td>\n",
       "      <td>1000</td>\n",
       "      <td>1000</td>\n",
       "      <td>1</td>\n",
       "    </tr>\n",
       "  </tbody>\n",
       "</table>\n",
       "<p>30000 rows × 24 columns</p>\n",
       "</div>"
      ],
      "text/plain": [
       "           X1 X2 X3 X4  X5  X6  X7  X8  X9 X10  ...    X15    X16    X17  \\\n",
       "1       20000  2  2  1  24   2   2  -1  -1  -2  ...      0      0      0   \n",
       "2      120000  2  2  2  26  -1   2   0   0   0  ...   3272   3455   3261   \n",
       "3       90000  2  2  2  34   0   0   0   0   0  ...  14331  14948  15549   \n",
       "4       50000  2  2  1  37   0   0   0   0   0  ...  28314  28959  29547   \n",
       "5       50000  1  2  1  57  -1   0  -1   0   0  ...  20940  19146  19131   \n",
       "...       ... .. .. ..  ..  ..  ..  ..  ..  ..  ...    ...    ...    ...   \n",
       "29996  220000  1  3  1  39   0   0   0   0   0  ...  88004  31237  15980   \n",
       "29997  150000  1  3  2  43  -1  -1  -1  -1   0  ...   8979   5190      0   \n",
       "29998   30000  1  2  2  37   4   3   2  -1   0  ...  20878  20582  19357   \n",
       "29999   80000  1  3  1  41   1  -1   0   0   0  ...  52774  11855  48944   \n",
       "30000   50000  1  2  1  46   0   0   0   0   0  ...  36535  32428  15313   \n",
       "\n",
       "         X18    X19    X20   X21    X22   X23  Y  \n",
       "1          0    689      0     0      0     0  1  \n",
       "2          0   1000   1000  1000      0  2000  1  \n",
       "3       1518   1500   1000  1000   1000  5000  0  \n",
       "4       2000   2019   1200  1100   1069  1000  0  \n",
       "5       2000  36681  10000  9000    689   679  0  \n",
       "...      ...    ...    ...   ...    ...   ... ..  \n",
       "29996   8500  20000   5003  3047   5000  1000  0  \n",
       "29997   1837   3526   8998   129      0     0  0  \n",
       "29998      0      0  22000  4200   2000  3100  1  \n",
       "29999  85900   3409   1178  1926  52964  1804  1  \n",
       "30000   2078   1800   1430  1000   1000  1000  1  \n",
       "\n",
       "[30000 rows x 24 columns]"
      ]
     },
     "execution_count": 532,
     "metadata": {},
     "output_type": "execute_result"
    }
   ],
   "source": [
    "data2"
   ]
  },
  {
   "cell_type": "markdown",
   "metadata": {},
   "source": [
    "# Dashboard prediction"
   ]
  },
  {
   "cell_type": "code",
   "execution_count": 73,
   "metadata": {},
   "outputs": [],
   "source": [
    "external_stylesheets = [\n",
    "    'https://codepen.io/chriddyp/pen/bWLwgP.css',\n",
    "    {\n",
    "        'href': 'https://stackpath.bootstrapcdn.com/bootstrap/4.1.3/css/bootstrap.min.css',\n",
    "        'rel': 'stylesheet',\n",
    "        'integrity': 'sha384-MCw98/SFnGE8fJT3GXwEOngsV7Zt27NXFoaoApmYm81iuXoPkFOJwJ8ERdknLPMO',\n",
    "        'crossorigin': 'anonymous'\n",
    "    }\n",
    "]\n",
    "app = dash.Dash(external_stylesheets=external_stylesheets)"
   ]
  },
  {
   "cell_type": "code",
   "execution_count": 74,
   "metadata": {},
   "outputs": [],
   "source": [
    "app.title=\"Prediction and Dashboard Web App\""
   ]
  },
  {
   "cell_type": "code",
   "execution_count": 75,
   "metadata": {},
   "outputs": [],
   "source": [
    "\n",
    "Tab1 = dcc.Tab(label='Prediction', children=[\n",
    "     html.Div(     style = {\n",
    "                \"position\": \"relative\",\n",
    "                  \"top\": \"50px\",\n",
    "                 'left' : '-600px'\n",
    "     }   ,\n",
    "         children =\n",
    "     [\n",
    "         html.Label(\"Gender\"),\n",
    "         html.Br(),\n",
    "         dcc.Dropdown(\n",
    "            id='input2',\n",
    "            options=[\n",
    "                {'label': 'Male', 'value': '1'},\n",
    "                {'label': 'Female', 'value': '2'},\n",
    "            ],\n",
    "            style={\"width\" : \"300px\"},\n",
    "        ),\n",
    "         html.Label(\"Education\"),\n",
    "         html.Br(),\n",
    "         dcc.Dropdown(\n",
    "            id='input3',\n",
    "            options=[\n",
    "                {'label': 'graduate school', 'value': '1'},\n",
    "                {'label': 'university', 'value': '2'},\n",
    "                {'label': 'high school', 'value': '3'},\n",
    "                {'label': 'others', 'value': '4'}\n",
    "            ],\n",
    "            style={\"width\" : \"300px\"},\n",
    "        ),\n",
    "         html.Label(\"Marital status\"),\n",
    "         html.Br(),         \n",
    "        dcc.Dropdown(\n",
    "            id='input4',\n",
    "            options=[\n",
    "                {'label': 'married', 'value': '1'},\n",
    "                {'label': 'single', 'value': '2'},\n",
    "                {'label': 'others', 'value': '3'}\n",
    "            ],\n",
    "            style={\"width\" : \"300px\"},\n",
    "        ),\n",
    "         html.Label(\"the repayment status in September\"),\n",
    "         html.Br(),  \n",
    "         dcc.Dropdown(\n",
    "            id='input6',\n",
    "            options=[\n",
    "                {'label': 'Pay Duly', 'value': '-1'},\n",
    "                {'label': 'Pay', 'value': '0'},\n",
    "                {'label': 'payment delay for 1 month', 'value': '1'},\n",
    "                {'label': 'payment delay for 2 month', 'value': '2'},\n",
    "                {'label': 'payment delay for 3 month', 'value': '3'},\n",
    "                {'label': 'payment delay for 4 month', 'value': '4'},\n",
    "                {'label': 'payment delay for 5 month', 'value': '5'},\n",
    "                {'label': 'payment delay for 6 month', 'value': '6'},\n",
    "                {'label': 'payment delay for 7 month', 'value': '7'},\n",
    "                {'label': 'payment delay for 8 month', 'value': '8'},\n",
    "                {'label': 'payment delay for 9 month', 'value': '9'}\n",
    "            ],\n",
    "            style={\"width\" : \"300px\"},\n",
    "        ),\n",
    "         html.Label(\"the repayment status in August\"),\n",
    "         html.Br(),\n",
    "         dcc.Dropdown(\n",
    "            id='input7',\n",
    "            options=[\n",
    "                {'label': 'Pay Duly', 'value': '-1'},\n",
    "                {'label': 'Pay', 'value': '0'},\n",
    "                {'label': 'payment delay for 1 month', 'value': '1'},\n",
    "                {'label': 'payment delay for 2 month', 'value': '2'},\n",
    "                {'label': 'payment delay for 3 month', 'value': '3'},\n",
    "                {'label': 'payment delay for 4 month', 'value': '4'},\n",
    "                {'label': 'payment delay for 5 month', 'value': '5'},\n",
    "                {'label': 'payment delay for 6 month', 'value': '6'},\n",
    "                {'label': 'payment delay for 7 month', 'value': '7'},\n",
    "                {'label': 'payment delay for 8 month', 'value': '8'},\n",
    "                {'label': 'payment delay for 9 month', 'value': '9'}\n",
    "            ],\n",
    "            style={\"width\" : \"300px\"},\n",
    "        ),\n",
    "        html.Label(\"the repayment status in July\"),\n",
    "         html.Br(),\n",
    "         dcc.Dropdown(\n",
    "            id='input8',\n",
    "            options=[\n",
    "                {'label': 'Pay Duly', 'value': '-1'},\n",
    "                {'label': 'Pay', 'value': '0'},\n",
    "                {'label': 'payment delay for 1 month', 'value': '1'},\n",
    "                {'label': 'payment delay for 2 month', 'value': '2'},\n",
    "                {'label': 'payment delay for 3 month', 'value': '3'},\n",
    "                {'label': 'payment delay for 4 month', 'value': '4'},\n",
    "                {'label': 'payment delay for 5 month', 'value': '5'},\n",
    "                {'label': 'payment delay for 6 month', 'value': '6'},\n",
    "                {'label': 'payment delay for 7 month', 'value': '7'},\n",
    "                {'label': 'payment delay for 8 month', 'value': '8'},\n",
    "                {'label': 'payment delay for 9 month', 'value': '9'}\n",
    "            ],\n",
    "            style={\"width\" : \"300px\"},\n",
    "        ),\n",
    "        html.Label(\"the repayment status in June\"),\n",
    "         html.Br(),\n",
    "        dcc.Dropdown(\n",
    "            id='input9',\n",
    "            options=[\n",
    "                {'label': 'Pay Duly', 'value': '-1'},\n",
    "                {'label': 'Pay', 'value': '0'},\n",
    "                {'label': 'payment delay for 1 month', 'value': '1'},\n",
    "                {'label': 'payment delay for 2 month', 'value': '2'},\n",
    "                {'label': 'payment delay for 3 month', 'value': '3'},\n",
    "                {'label': 'payment delay for 4 month', 'value': '4'},\n",
    "                {'label': 'payment delay for 5 month', 'value': '5'},\n",
    "                {'label': 'payment delay for 6 month', 'value': '6'},\n",
    "                {'label': 'payment delay for 7 month', 'value': '7'},\n",
    "                {'label': 'payment delay for 8 month', 'value': '8'},\n",
    "                {'label': 'payment delay for 9 month', 'value': '9'}\n",
    "            ],\n",
    "            style={\"width\" : \"300px\"},\n",
    "        ),\n",
    "        html.Label(\"the repayment status in May\"),\n",
    "         html.Br(),\n",
    "        dcc.Dropdown(\n",
    "            id='input10',\n",
    "            options=[\n",
    "                {'label': 'Pay Duly', 'value': '-1'},\n",
    "                {'label': 'Pay', 'value': '0'},\n",
    "                {'label': 'payment delay for 1 month', 'value': '1'},\n",
    "                {'label': 'payment delay for 2 month', 'value': '2'},\n",
    "                {'label': 'payment delay for 3 month', 'value': '3'},\n",
    "                {'label': 'payment delay for 4 month', 'value': '4'},\n",
    "                {'label': 'payment delay for 5 month', 'value': '5'},\n",
    "                {'label': 'payment delay for 6 month', 'value': '6'},\n",
    "                {'label': 'payment delay for 7 month', 'value': '7'},\n",
    "                {'label': 'payment delay for 8 month', 'value': '8'},\n",
    "                {'label': 'payment delay for 9 month', 'value': '9'}\n",
    "            ],\n",
    "            style={\"width\" : \"300px\"},\n",
    "        ),\n",
    "        html.Label(\"the repayment status in April\"),\n",
    "         html.Br(),\n",
    "        dcc.Dropdown(\n",
    "            id='input11',\n",
    "            options=[\n",
    "                {'label': 'Pay Duly', 'value': '-1'},\n",
    "                {'label': 'Pay', 'value': '0'},\n",
    "                {'label': 'payment delay for 1 month', 'value': '1'},\n",
    "                {'label': 'payment delay for 2 month', 'value': '2'},\n",
    "                {'label': 'payment delay for 3 month', 'value': '3'},\n",
    "                {'label': 'payment delay for 4 month', 'value': '4'},\n",
    "                {'label': 'payment delay for 5 month', 'value': '5'},\n",
    "                {'label': 'payment delay for 6 month', 'value': '6'},\n",
    "                {'label': 'payment delay for 7 month', 'value': '7'},\n",
    "                {'label': 'payment delay for 8 month', 'value': '8'},\n",
    "                {'label': 'payment delay for 9 month', 'value': '9'}\n",
    "            ],\n",
    "            style={\"width\" : \"300px\"},\n",
    "        ),\n",
    "        \n",
    "\n",
    "         \n",
    "     ]),\n",
    "##############################################################################################################################################   \n",
    "     html.Div(style={\n",
    "                  \"position\": \"relative\",\n",
    "                  \"left\": \"-100px\",\n",
    "                  \"top\": \"-450px\",\n",
    "                  \n",
    "                  \n",
    "                  },children =\n",
    "     [\n",
    "         html.Label(\"Amount of the given credit : \",style={'margin-right' : '167px'}),\n",
    "         html.Label(\"Age : \",style={'margin-right' : '257px'}),\n",
    "         html.Label(\"Amount of bill statement in September : \"),\n",
    "         html.Br(),\n",
    "         dcc.Input(\n",
    "            id=\"input1\", style={'margin-right' : '35px' , 'width':'250px'} ,\n",
    "            placeholder=\"Amount of the given credit\",\n",
    "        ),\n",
    "         \n",
    "         dcc.Input(\n",
    "            id=\"input5\", style={'margin-right' : '35px','width' : '250px'} ,\n",
    "            placeholder=\"Age\",),       \n",
    "        dcc.Input(\n",
    "            id=\"input12\", style={'margin-right' : '35px','width' : '250px'} ,\n",
    "            placeholder=\"amount of bill statement in September\",\n",
    "        ),\n",
    "         html.Br(),\n",
    "         html.Br(),\n",
    "         html.Label(\"Amount of bill statement in August : \",style={'margin-right' : '127px'}),\n",
    "         html.Label(\"Amount of bill statement in july   : \",style={'margin-right' : '142px'}),\n",
    "         html.Label(\"Amount of bill statement in June   : \"),\n",
    "         html.Br(),\n",
    "        dcc.Input(\n",
    "            id=\"input13\", style={'margin-right' : '35px' , 'width':'250px'} ,\n",
    "            placeholder=\"Amount of bill statement in August\"),\n",
    "         dcc.Input(\n",
    "            id=\"input14\", style={'margin-right' : '35px' , 'width':'250px'} ,\n",
    "            placeholder=\"Amount of bill statement in july\"),\n",
    "        dcc.Input(\n",
    "            id=\"input15\", style={'margin-right' : '35px' , 'width':'250px'} ,\n",
    "            placeholder=\"Amount of bill statement in June\"),\n",
    "##############################################################################################################################################   \n",
    "          html.Br(),  \n",
    "          html.Br(),\n",
    "        html.Label(\"Amount of bill statement in May     : \",style={'margin-right' : '142px'}),\n",
    "        html.Label(\"Amount of bill statement in April   : \",style={'margin-right' : '132px'}),\n",
    "        html.Label(\"Amount paid in September   : \"),\n",
    "         html.Br(),\n",
    "        dcc.Input(\n",
    "            id=\"input16\", style={'margin-right' : '35px' , 'width':'250px'} ,\n",
    "            placeholder=\"Amount of bill statement in May\"),\n",
    "         dcc.Input(\n",
    "            id=\"input17\", style={'margin-right' : '35px' , 'width':'250px'} ,\n",
    "            placeholder=\"Amount of bill statement in April\"),\n",
    "        dcc.Input(\n",
    "            id=\"input18\", style={'margin-right' : '35px' , 'width':'250px'} ,\n",
    "            placeholder=\"amount paid in September\"),\n",
    "         \n",
    "##############################################################################################################################################\n",
    "        html.Br(),\n",
    "        html.Br(),\n",
    "        html.Label(\"Amount paid in August     : \",style={'margin-right' : '182px'}),\n",
    "        html.Label(\"Amount paid in july   : \",style={'margin-right' : '192px'}),\n",
    "        html.Label(\"amount paid in June   : \"),\n",
    "         html.Br(),\n",
    "         dcc.Input(\n",
    "            id=\"input19\", style={'margin-right' : '35px' , 'width':'250px'} ,\n",
    "            placeholder=\"amount paid in August\"),\n",
    "         dcc.Input(\n",
    "            id=\"input20\", style={'margin-right' : '35px' , 'width':'250px'} ,\n",
    "            placeholder=\"amount paid in july\"),\n",
    "        dcc.Input(\n",
    "            id=\"input21\", style={'margin-right' : '35px' , 'width':'250px'} ,\n",
    "            placeholder=\"amount paid in June\"),\n",
    "##############################################################################################################################################\n",
    "        html.Br(),\n",
    "        html.Br(),\n",
    "        html.Label(\"Amount paid in May     : \",style={'margin-right' : '192px'}),\n",
    "        html.Label(\"Amount paid in july   : \",style={'margin-right' : '192px'}),\n",
    "        html.Br(),\n",
    "        dcc.Input(\n",
    "            id=\"input22\", style={'margin-right' : '35px' , 'width':'250px'} ,\n",
    "            placeholder=\"amount paid in May\"),\n",
    "         dcc.Input(\n",
    "            id=\"input23\", style={'margin-right' : '35px' , 'width':'250px'} ,\n",
    "            placeholder=\"amount paid in April\"),\n",
    "     ]),\n",
    "    '''\n",
    "    html.Div(id='Output'  ,      style={\n",
    "                  \"position\": \"relative\",\n",
    "                  \"left\": \"600px\",\n",
    "                  \"top\": \"-400px\",\n",
    "                  'font-size': '60px'\n",
    "                  \n",
    "                  },children=[\n",
    "                ]\n",
    "    )\n",
    "    '''\n",
    "])"
   ]
  },
  {
   "cell_type": "code",
   "execution_count": 76,
   "metadata": {},
   "outputs": [
    {
     "data": {
      "text/html": [
       "<div>\n",
       "<style scoped>\n",
       "    .dataframe tbody tr th:only-of-type {\n",
       "        vertical-align: middle;\n",
       "    }\n",
       "\n",
       "    .dataframe tbody tr th {\n",
       "        vertical-align: top;\n",
       "    }\n",
       "\n",
       "    .dataframe thead th {\n",
       "        text-align: right;\n",
       "    }\n",
       "</style>\n",
       "<table border=\"1\" class=\"dataframe\">\n",
       "  <thead>\n",
       "    <tr style=\"text-align: right;\">\n",
       "      <th></th>\n",
       "      <th>X1</th>\n",
       "      <th>X2</th>\n",
       "      <th>X3</th>\n",
       "      <th>X4</th>\n",
       "      <th>X5</th>\n",
       "      <th>X6</th>\n",
       "      <th>X7</th>\n",
       "      <th>X8</th>\n",
       "      <th>X9</th>\n",
       "      <th>X10</th>\n",
       "      <th>...</th>\n",
       "      <th>X15</th>\n",
       "      <th>X16</th>\n",
       "      <th>X17</th>\n",
       "      <th>X18</th>\n",
       "      <th>X19</th>\n",
       "      <th>X20</th>\n",
       "      <th>X21</th>\n",
       "      <th>X22</th>\n",
       "      <th>X23</th>\n",
       "      <th>Y</th>\n",
       "    </tr>\n",
       "  </thead>\n",
       "  <tbody>\n",
       "    <tr>\n",
       "      <th>1</th>\n",
       "      <td>20000</td>\n",
       "      <td>2</td>\n",
       "      <td>2</td>\n",
       "      <td>1</td>\n",
       "      <td>24</td>\n",
       "      <td>2</td>\n",
       "      <td>2</td>\n",
       "      <td>-1</td>\n",
       "      <td>-1</td>\n",
       "      <td>-2</td>\n",
       "      <td>...</td>\n",
       "      <td>0</td>\n",
       "      <td>0</td>\n",
       "      <td>0</td>\n",
       "      <td>0</td>\n",
       "      <td>689</td>\n",
       "      <td>0</td>\n",
       "      <td>0</td>\n",
       "      <td>0</td>\n",
       "      <td>0</td>\n",
       "      <td>1</td>\n",
       "    </tr>\n",
       "  </tbody>\n",
       "</table>\n",
       "<p>1 rows × 24 columns</p>\n",
       "</div>"
      ],
      "text/plain": [
       "      X1 X2 X3 X4  X5 X6 X7  X8  X9 X10  ... X15 X16 X17 X18  X19 X20 X21 X22  \\\n",
       "1  20000  2  2  1  24  2  2  -1  -1  -2  ...   0   0   0   0  689   0   0   0   \n",
       "\n",
       "  X23  Y  \n",
       "1   0  1  \n",
       "\n",
       "[1 rows x 24 columns]"
      ]
     },
     "execution_count": 76,
     "metadata": {},
     "output_type": "execute_result"
    }
   ],
   "source": [
    "data2.head(1)"
   ]
  },
  {
   "cell_type": "code",
   "execution_count": 77,
   "metadata": {},
   "outputs": [
    {
     "data": {
      "text/plain": [
       "[Input(id='input1', style={'display': 'none'}),\n",
       " Input(id='input2', style={'display': 'none'}),\n",
       " Input(id='input3', style={'display': 'none'}),\n",
       " Input(id='input4', style={'display': 'none'}),\n",
       " Input(id='input5', style={'display': 'none'}),\n",
       " Input(id='input6', style={'display': 'none'}),\n",
       " Input(id='input7', style={'display': 'none'}),\n",
       " Input(id='input8', style={'display': 'none'}),\n",
       " Input(id='input9', style={'display': 'none'}),\n",
       " Input(id='input10', style={'display': 'none'}),\n",
       " Input(id='input11', style={'display': 'none'}),\n",
       " Input(id='input12', style={'display': 'none'}),\n",
       " Input(id='input13', style={'display': 'none'}),\n",
       " Input(id='input14', style={'display': 'none'}),\n",
       " Input(id='input15', style={'display': 'none'}),\n",
       " Input(id='input16', style={'display': 'none'}),\n",
       " Input(id='input17', style={'display': 'none'}),\n",
       " Input(id='input18', style={'display': 'none'}),\n",
       " Input(id='input19', style={'display': 'none'}),\n",
       " Input(id='input20', style={'display': 'none'}),\n",
       " Input(id='input21', style={'display': 'none'}),\n",
       " Input(id='input22', style={'display': 'none'}),\n",
       " Input(id='input23', style={'display': 'none'})]"
      ]
     },
     "execution_count": 77,
     "metadata": {},
     "output_type": "execute_result"
    }
   ],
   "source": [
    "inputs = []\n",
    "for i in range(1,24):\n",
    "        inputs.append(dcc.Input(\n",
    "            id='input'+str(i)\n",
    "            ,style={'display':'none'}\n",
    "        ))\n",
    "inputs"
   ]
  },
  {
   "cell_type": "code",
   "execution_count": 78,
   "metadata": {},
   "outputs": [],
   "source": [
    "############### Age en fonction du credit #####################\n",
    "data_Age_Credit = [ go.Scatter(x=data2[\"X5\"],y=data2[\"X1\"],mode='markers')\n",
    "        ]\n",
    "layout_Age_Credit = go.Layout(title=\"Age en fonction du crédit\",\n",
    "                  xaxis={\"title\":\"Age\"},\n",
    "                  yaxis={\"title\":\"Credit\"})\n",
    "fig_Age_Credit = go.Figure(data = data_Age_Credit, layout=layout_Age_Credit)\n",
    "############### Etat de payement pout chaque type #####################\n",
    "dataplot_1 = [ go.Box(y=dataforboxplot1[0]),\n",
    "        go.Box(y=dataforboxplot1[1]),\n",
    "        go.Box(y=dataforboxplot1[2]),\n",
    "        go.Box(y=dataforboxplot1[3]),\n",
    "        go.Box(y=dataforboxplot1[4]),\n",
    "        go.Box(y=dataforboxplot1[5])\n",
    "       ]\n",
    "dataplot_0 = [ go.Box(y=dataforboxplot0[0]),\n",
    "        go.Box(y=dataforboxplot0[1]),\n",
    "        go.Box(y=dataforboxplot0[2]),\n",
    "        go.Box(y=dataforboxplot0[3]),\n",
    "        go.Box(y=dataforboxplot0[4]),\n",
    "        go.Box(y=dataforboxplot0[5])\n",
    "       ] \n",
    "layout_1 = go.Layout(title=\"Etat de paiment\",\n",
    "                  xaxis={\"title\":\"Etat de paiment pour le cluster 1\"},\n",
    "                  yaxis=dict(title=\"la variable y\"))\n",
    "layout_0 = go.Layout(title=\"Etat de paiment\",\n",
    "                  xaxis={\"title\":\"Etat de paiment pour le cluster 0\"},\n",
    "                  yaxis=dict(title=\"la variable y\"))\n",
    "fig_0 = go.Figure(data = dataplot_0, layout=layout_0)\n",
    "fig_1 = go.Figure(data = dataplot_1, layout=layout_1)"
   ]
  },
  {
   "cell_type": "code",
   "execution_count": 79,
   "metadata": {},
   "outputs": [],
   "source": [
    "Tab2 = dcc.Tab(label='Dashboards' , children=[\n",
    "    \n",
    "        dcc.Graph(\n",
    "        id='AgeCredit',\n",
    "        figure=fig_Age_Credit,\n",
    "        style={'margin-left': '-42%' , 'width' : '100%' }\n",
    "        ),\n",
    "   \n",
    "        dcc.Graph(\n",
    "        id='Payement0',\n",
    "        figure=fig_0,\n",
    "        style={'margin-left': '-42%' , 'width' : '100%' }\n",
    "        ),\n",
    "    \n",
    "        dcc.Graph(\n",
    "        id='Payement1',\n",
    "        figure=fig_1 ,\n",
    "        style={'margin-left': '-42%' , 'width' : '100%'}\n",
    "        ),\n",
    "    \n",
    "        dcc.Graph(\n",
    "        id='Payement_september2',\n",
    "        figure=fig_3,\n",
    "        style={'margin-left': '-42%' , 'width' : '100%'}\n",
    "        )\n",
    "])"
   ]
  },
  {
   "cell_type": "code",
   "execution_count": 80,
   "metadata": {},
   "outputs": [],
   "source": [
    "colors = {\n",
    "    'background': '#5CDB95',\n",
    "    'text': '#05386B'\n",
    "}\n",
    "\n",
    "app.layout = html.Div( children=[\n",
    "    html.Div(style={'backgroundColor': colors['background']} ,children = [\n",
    "    html.H1(\n",
    "        children='Application Web Bank of Asia',\n",
    "        style={\n",
    "            'textAlign': 'center',\n",
    "            'color': colors['text'],\n",
    "        }\n",
    "    ),\n",
    "\n",
    "    html.Div(children='For a good prediction and awesome dashboards', style={\n",
    "        'textAlign': 'center',\n",
    "        'color': colors['text']\n",
    "    })]),\n",
    "    \n",
    "    html.Div(style={\n",
    "                  \"position\": \"relative\",\n",
    "                  \"left\": \"650px\",\n",
    "                  \"top\" : \"120px\"\n",
    "                  },\n",
    "        id=\"log119\",\n",
    "        children=[\n",
    "        html.Img(src=app.get_asset_url('login-icon.png'),style={'width':'100px','height':'100px','margin-left':\"100px\"}),\n",
    "        html.Br(),\n",
    "        html.Br(),\n",
    "        dcc.Input(\n",
    "            id=\"auth\",\n",
    "            style = {'width':\"300px\"},\n",
    "            placeholder = \"User Name\"\n",
    "        ),\n",
    "        html.Br(),\n",
    "        html.Br(),\n",
    "         dcc.Input(\n",
    "            id=\"pass\",\n",
    "            style = {'width':\"300px\"},\n",
    "            placeholder = \"Password\",\n",
    "            type = \"password\"\n",
    "        ),\n",
    "        html.Br(),\n",
    "        html.Br(),\n",
    "        dbc.Button(\"Se connecter\", id=\"example-button\", className=\"mr-2\",style={\"margin-left\":'100px'}),\n",
    "        html.Span(id=\"test2\", style={\"vertical-align\": \"middle\"}),\n",
    "    ]),\n",
    "    html.Div(\n",
    "        id='Output17',\n",
    "        children = inputs,\n",
    "        style={ \"position\": \"relative\",\n",
    "                  \"left\": \"600px\",\n",
    "                  \"top\": \"-250px\",}\n",
    "    ),\n",
    "    \n",
    "    #dcc.Tabs([\n",
    "     #   Tab1,\n",
    "      #  Tab2,\n",
    "    #])\n",
    "\n",
    "])"
   ]
  },
  {
   "cell_type": "code",
   "execution_count": 81,
   "metadata": {},
   "outputs": [],
   "source": [
    "\n",
    "@app.callback(\n",
    "    Output(\"log119\", \"children\"), [Input(\"example-button\", \"n_clicks\"),Input(\"auth\", \"value\")\n",
    "                                   ,Input(\"pass\", \"value\")]\n",
    ")\n",
    "def on_button_click(n,auth,pasw):\n",
    "    if(auth==\"Mustapha\" and pasw==\"123\"):\n",
    "        if(n!=None):\n",
    "            a = dcc.Tabs(style={'margin-top':'-120px','margin-left':'-700px','width':'100%'},children=[\n",
    "                \n",
    "                   Tab1,\n",
    "                Tab2,])\n",
    "    return a\n"
   ]
  },
  {
   "cell_type": "code",
   "execution_count": 82,
   "metadata": {},
   "outputs": [],
   "source": [
    "@app.callback(\n",
    "    Output('Output17', 'children'),\n",
    "   [Input('input1', 'value'),Input('input2', 'value'),Input('input3', 'value'),\n",
    "    Input('input4', 'value'),Input('input5', 'value'),Input('input6', 'value'),\n",
    "    Input('input7', 'value'),Input('input8', 'value'),Input('input9', 'value'),\n",
    "    Input('input10', 'value'),Input('input11', 'value'),Input('input12', 'value'),\n",
    "    Input('input13', 'value'),Input('input14', 'value'),Input('input15', 'value'),\n",
    "    Input('input16', 'value'),Input('input17', 'value'),Input('input18', 'value'),\n",
    "    Input('input19', 'value'),Input('input20', 'value'),Input('input21', 'value'),\n",
    "    Input('input22', 'value'),Input('input23', 'value')\n",
    "  ]\n",
    ")\n",
    "def pass_onmodel(x1,x2,x3,x4,x5,x6,x7,x8,x9,x10,x11,x12,x13,x14,x15,x16,x17,x18,x19,x20,x21,x22,x23):\n",
    "    if(x1!=None and x1!=None and x2!=None  and x3!=None and x4!=None and x5!=None and x6!=None and x7!=None and x8!=None and x9!=None and x10!=None \n",
    "       and x11!=None and x12!=None and x13!=None and x14!=None and x15!=None and x16!=None and x17!=None  and x18!=None \n",
    "      and x19!=None and x20!=None and x21!=None and x22!=None and  x23!=None) :\n",
    "        new_customer = [x1,x2,x3,x4,x5,x6,x7,x8,x9,x10,x11,x12,x13,x14,x15,x16,x17,x18,x19,x20,x21,x22,x23]\n",
    "        new_cus = [int(i) for i in new_customer]\n",
    "        new = [new_cus]\n",
    "        new = mms.fit_transform(new)\n",
    "        y_pred = knn_model_mms.predict(new)\n",
    "        if(y_pred[0]==0):\n",
    "            ch = \"Bad Customer he won't pay\"\n",
    "            color = 'Tomato'\n",
    "        else :\n",
    "            ch = \"Good Customer he will pay\"\n",
    "            color = 'MediumSeaGreen'\n",
    "    return html.P(ch,style = {'color':color,'font-size':'30px','left-margin':\"-500%\"})\n"
   ]
  },
  {
   "cell_type": "code",
   "execution_count": null,
   "metadata": {},
   "outputs": [],
   "source": [
    "app.run_server()"
   ]
  },
  {
   "cell_type": "code",
   "execution_count": null,
   "metadata": {},
   "outputs": [],
   "source": []
  },
  {
   "cell_type": "code",
   "execution_count": null,
   "metadata": {},
   "outputs": [],
   "source": []
  },
  {
   "cell_type": "code",
   "execution_count": null,
   "metadata": {},
   "outputs": [],
   "source": []
  },
  {
   "cell_type": "code",
   "execution_count": null,
   "metadata": {},
   "outputs": [],
   "source": []
  },
  {
   "cell_type": "code",
   "execution_count": null,
   "metadata": {},
   "outputs": [],
   "source": []
  },
  {
   "cell_type": "code",
   "execution_count": null,
   "metadata": {},
   "outputs": [],
   "source": []
  }
 ],
 "metadata": {
  "kernelspec": {
   "display_name": "Python 3",
   "language": "python",
   "name": "python3"
  },
  "language_info": {
   "codemirror_mode": {
    "name": "ipython",
    "version": 3
   },
   "file_extension": ".py",
   "mimetype": "text/x-python",
   "name": "python",
   "nbconvert_exporter": "python",
   "pygments_lexer": "ipython3",
   "version": "3.7.3"
  }
 },
 "nbformat": 4,
 "nbformat_minor": 4
}
